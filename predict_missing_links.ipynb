{
 "cells": [
  {
   "cell_type": "markdown",
   "metadata": {
    "toc": "true"
   },
   "source": [
    " # Table of Contents\n",
    "<div class=\"toc\" style=\"margin-top: 1em;\"><ul class=\"toc-item\" id=\"toc-level0\"><li><span><a href=\"http://localhost:8888/notebooks/ngsa-predict-missing-links/predict_missing_links.ipynb#Node-information\" data-toc-modified-id=\"Node-information-1\"><span class=\"toc-item-num\">1&nbsp;&nbsp;</span>Node information</a></span><ul class=\"toc-item\"><li><span><a href=\"http://localhost:8888/notebooks/ngsa-predict-missing-links/predict_missing_links.ipynb#String-processing\" data-toc-modified-id=\"String-processing-1.1\"><span class=\"toc-item-num\">1.1&nbsp;&nbsp;</span>String processing</a></span></li><li><span><a href=\"http://localhost:8888/notebooks/ngsa-predict-missing-links/predict_missing_links.ipynb#Neighbors\" data-toc-modified-id=\"Neighbors-1.2\"><span class=\"toc-item-num\">1.2&nbsp;&nbsp;</span>Neighbors</a></span></li><li><span><a href=\"http://localhost:8888/notebooks/ngsa-predict-missing-links/predict_missing_links.ipynb#Bag-of-Words-Abstract\" data-toc-modified-id=\"Bag-of-Words-Abstract-1.3\"><span class=\"toc-item-num\">1.3&nbsp;&nbsp;</span>Bag of Words Abstract</a></span></li><li><span><a href=\"http://localhost:8888/notebooks/ngsa-predict-missing-links/predict_missing_links.ipynb#Node2vec-embeddings\" data-toc-modified-id=\"Node2vec-embeddings-1.4\"><span class=\"toc-item-num\">1.4&nbsp;&nbsp;</span>Node2vec embeddings</a></span></li></ul></li><li><span><a href=\"http://localhost:8888/notebooks/ngsa-predict-missing-links/predict_missing_links.ipynb#Feature-engineering\" data-toc-modified-id=\"Feature-engineering-2\"><span class=\"toc-item-num\">2&nbsp;&nbsp;</span>Feature engineering</a></span></li><li><span><a href=\"http://localhost:8888/notebooks/ngsa-predict-missing-links/predict_missing_links.ipynb#Feature-Selection\" data-toc-modified-id=\"Feature-Selection-3\"><span class=\"toc-item-num\">3&nbsp;&nbsp;</span>Feature Selection</a></span><ul class=\"toc-item\"><li><span><a href=\"http://localhost:8888/notebooks/ngsa-predict-missing-links/predict_missing_links.ipynb#node2vec\" data-toc-modified-id=\"node2vec-3.1\"><span class=\"toc-item-num\">3.1&nbsp;&nbsp;</span>node2vec</a></span></li><li><span><a href=\"http://localhost:8888/notebooks/ngsa-predict-missing-links/predict_missing_links.ipynb#Set-of-features-$F$\" data-toc-modified-id=\"Set-of-features-$F$-3.2\"><span class=\"toc-item-num\">3.2&nbsp;&nbsp;</span>Set of features $F$</a></span></li><li><span><a href=\"http://localhost:8888/notebooks/ngsa-predict-missing-links/predict_missing_links.ipynb#Combination-of-node2vec-and-features-$F$\" data-toc-modified-id=\"Combination-of-node2vec-and-features-$F$-3.3\"><span class=\"toc-item-num\">3.3&nbsp;&nbsp;</span>Combination of node2vec and features $F$</a></span></li><li><span><a href=\"http://localhost:8888/notebooks/ngsa-predict-missing-links/predict_missing_links.ipynb#Fine-tuning-the-set-$F$\" data-toc-modified-id=\"Fine-tuning-the-set-$F$-3.4\"><span class=\"toc-item-num\">3.4&nbsp;&nbsp;</span>Fine-tuning the set $F$</a></span></li></ul></li><li><span><a href=\"http://localhost:8888/notebooks/ngsa-predict-missing-links/predict_missing_links.ipynb#Comparison-of-classifiers\" data-toc-modified-id=\"Comparison-of-classifiers-4\"><span class=\"toc-item-num\">4&nbsp;&nbsp;</span>Comparison of classifiers</a></span><ul class=\"toc-item\"><li><span><a href=\"http://localhost:8888/notebooks/ngsa-predict-missing-links/predict_missing_links.ipynb#Logistic-Regression\" data-toc-modified-id=\"Logistic-Regression-4.1\"><span class=\"toc-item-num\">4.1&nbsp;&nbsp;</span>Logistic Regression</a></span></li><li><span><a href=\"http://localhost:8888/notebooks/ngsa-predict-missing-links/predict_missing_links.ipynb#Random-Forest\" data-toc-modified-id=\"Random-Forest-4.2\"><span class=\"toc-item-num\">4.2&nbsp;&nbsp;</span>Random Forest</a></span></li><li><span><a href=\"http://localhost:8888/notebooks/ngsa-predict-missing-links/predict_missing_links.ipynb#Gradient-boosting\" data-toc-modified-id=\"Gradient-boosting-4.3\"><span class=\"toc-item-num\">4.3&nbsp;&nbsp;</span>Gradient boosting</a></span></li></ul></li><li><span><a href=\"http://localhost:8888/notebooks/ngsa-predict-missing-links/predict_missing_links.ipynb#Gradient-Boosting-hyperparameter-optimization\" data-toc-modified-id=\"Gradient-Boosting-hyperparameter-optimization-5\"><span class=\"toc-item-num\">5&nbsp;&nbsp;</span>Gradient Boosting hyperparameter optimization</a></span></li><li><span><a href=\"http://localhost:8888/notebooks/ngsa-predict-missing-links/predict_missing_links.ipynb#Predictions\" data-toc-modified-id=\"Predictions-6\"><span class=\"toc-item-num\">6&nbsp;&nbsp;</span>Predictions</a></span></li></ul></div>"
   ]
  },
  {
   "cell_type": "code",
   "execution_count": 115,
   "metadata": {},
   "outputs": [],
   "source": [
    "import pandas as pd\n",
    "import numpy as np\n",
    "import random\n",
    "import csv\n",
    "import os\n",
    "import matplotlib.pyplot as plt\n",
    "%matplotlib inline\n",
    "\n",
    "\n",
    "from sklearn.model_selection import StratifiedKFold, cross_val_score\n",
    "from sklearn.utils import shuffle"
   ]
  },
  {
   "cell_type": "code",
   "execution_count": 38,
   "metadata": {},
   "outputs": [],
   "source": [
    "plt.style.use(\"ggplot\")"
   ]
  },
  {
   "cell_type": "code",
   "execution_count": 39,
   "metadata": {},
   "outputs": [
    {
     "name": "stdout",
     "output_type": "stream",
     "text": [
      "The line_profiler extension is already loaded. To reload it, use:\n",
      "  %reload_ext line_profiler\n"
     ]
    }
   ],
   "source": [
    "%load_ext line_profiler"
   ]
  },
  {
   "cell_type": "code",
   "execution_count": 40,
   "metadata": {},
   "outputs": [
    {
     "name": "stdout",
     "output_type": "stream",
     "text": [
      "The autoreload extension is already loaded. To reload it, use:\n",
      "  %reload_ext autoreload\n"
     ]
    }
   ],
   "source": [
    "%load_ext autoreload\n",
    "\n",
    "%autoreload 2"
   ]
  },
  {
   "cell_type": "code",
   "execution_count": 41,
   "metadata": {},
   "outputs": [],
   "source": [
    "# Display all the columns when showing DataFrames\n",
    "pd.set_option(\"display.max_columns\", None)"
   ]
  },
  {
   "cell_type": "markdown",
   "metadata": {},
   "source": [
    "The goal of this assignment is to identify missing citations in a citation network of research articles. A citation network is represented as a graph G=(V, E), where the nodes correspond to scientific articles and the existence of a directed edge between nodes u and v, indicates that paper u cites paper v.\n",
    "\n",
    "Each node (i.e., article) is also associated with information such as the title of the paper, publication year, author names and a short abstract. A number of edges have been randomly removed from the original citation network.\n",
    "\n",
    "Your goal is to accurately reconstruct the initial network using graph-theoretical and textual features, and possibly other information. Your solution can be based on supervised or unsupervised techniques for link prediction or on a combination of both. You should aim for the maximum F1 score."
   ]
  },
  {
   "cell_type": "markdown",
   "metadata": {},
   "source": [
    "# Node information"
   ]
  },
  {
   "cell_type": "markdown",
   "metadata": {},
   "source": [
    "Please don't go over this section if the file `data/node_information_completed.csv` has already been created."
   ]
  },
  {
   "cell_type": "code",
   "execution_count": 42,
   "metadata": {},
   "outputs": [],
   "source": [
    "from utils import process_text, format_author_names"
   ]
  },
  {
   "cell_type": "code",
   "execution_count": 43,
   "metadata": {},
   "outputs": [],
   "source": [
    "# Info for each node\n",
    "with open(\"data/node_information.csv\", \"r\") as f:\n",
    "    reader = csv.reader(f)\n",
    "    node_info  = list(reader)\n",
    "\n",
    "IDs = [element[0] for element in node_info]\n",
    "df_node_info = pd.DataFrame(node_info, columns=[\"paper_id\", \"year\", \"title\", \n",
    "                                                \"authors\", \"journal_name\", \"abstract\"])\n",
    "df_node_info.index = df_node_info.paper_id\n",
    "df_node_info.drop(\"paper_id\", axis=1, inplace=True)"
   ]
  },
  {
   "cell_type": "markdown",
   "metadata": {},
   "source": [
    "## String processing "
   ]
  },
  {
   "cell_type": "code",
   "execution_count": 44,
   "metadata": {},
   "outputs": [],
   "source": [
    "# Put the year column to numeric setting\n",
    "df_node_info[\"year\"] = df_node_info.year.map(pd.to_numeric)"
   ]
  },
  {
   "cell_type": "code",
   "execution_count": 45,
   "metadata": {},
   "outputs": [],
   "source": [
    "df_node_info[\"title_processed\"] = df_node_info[\"title\"].map(lambda t: process_text(t))\n",
    "\n",
    "df_node_info[\"authors_processed\"] = df_node_info[\"authors\"].map(\n",
    "                                    lambda l: [author for author in l.split(\",\") \n",
    "                                               if author not in (\" \", \"\")])\n",
    "\n",
    "df_node_info[\"abstract_processed\"] = df_node_info[\"abstract\"].map(lambda t: process_text(t))"
   ]
  },
  {
   "cell_type": "markdown",
   "metadata": {},
   "source": [
    "Let's process the author names to be consistent:"
   ]
  },
  {
   "cell_type": "code",
   "execution_count": 46,
   "metadata": {},
   "outputs": [],
   "source": [
    "# Clean the author names\n",
    "df_node_info[\"authors_processed\"] = df_node_info[\"authors_processed\"]\\\n",
    "                                  .apply(lambda x: format_author_names(x))"
   ]
  },
  {
   "cell_type": "code",
   "execution_count": 47,
   "metadata": {},
   "outputs": [
    {
     "data": {
      "text/html": [
       "<div>\n",
       "<style scoped>\n",
       "    .dataframe tbody tr th:only-of-type {\n",
       "        vertical-align: middle;\n",
       "    }\n",
       "\n",
       "    .dataframe tbody tr th {\n",
       "        vertical-align: top;\n",
       "    }\n",
       "\n",
       "    .dataframe thead th {\n",
       "        text-align: right;\n",
       "    }\n",
       "</style>\n",
       "<table border=\"1\" class=\"dataframe\">\n",
       "  <thead>\n",
       "    <tr style=\"text-align: right;\">\n",
       "      <th></th>\n",
       "      <th>year</th>\n",
       "      <th>title</th>\n",
       "      <th>authors</th>\n",
       "      <th>journal_name</th>\n",
       "      <th>abstract</th>\n",
       "      <th>title_processed</th>\n",
       "      <th>authors_processed</th>\n",
       "      <th>abstract_processed</th>\n",
       "    </tr>\n",
       "    <tr>\n",
       "      <th>paper_id</th>\n",
       "      <th></th>\n",
       "      <th></th>\n",
       "      <th></th>\n",
       "      <th></th>\n",
       "      <th></th>\n",
       "      <th></th>\n",
       "      <th></th>\n",
       "      <th></th>\n",
       "    </tr>\n",
       "  </thead>\n",
       "  <tbody>\n",
       "    <tr>\n",
       "      <th>1001</th>\n",
       "      <td>2000</td>\n",
       "      <td>compactification geometry and duality</td>\n",
       "      <td>Paul S. Aspinwall</td>\n",
       "      <td></td>\n",
       "      <td>these are notes based on lectures given at tas...</td>\n",
       "      <td>[compactification, geometry, duality]</td>\n",
       "      <td>[P S Aspinwall]</td>\n",
       "      <td>[notes, based, lectures, given, tasi99, review...</td>\n",
       "    </tr>\n",
       "    <tr>\n",
       "      <th>1002</th>\n",
       "      <td>2000</td>\n",
       "      <td>domain walls and massive gauged supergravity p...</td>\n",
       "      <td>M. Cvetic, H. Lu, C.N. Pope</td>\n",
       "      <td>Class.Quant.Grav.</td>\n",
       "      <td>we point out that massive gauged supergravity ...</td>\n",
       "      <td>[domain, walls, massive, gauged, supergravity,...</td>\n",
       "      <td>[M Cvetic, H Lu, C N Pope]</td>\n",
       "      <td>[point, massive, gauged, supergravity, potenti...</td>\n",
       "    </tr>\n",
       "    <tr>\n",
       "      <th>1003</th>\n",
       "      <td>2000</td>\n",
       "      <td>comment on metric fluctuations in brane worlds</td>\n",
       "      <td>Y.S. Myung, Gungwon Kang</td>\n",
       "      <td></td>\n",
       "      <td>recently ivanov and volovich hep-th 9912242 cl...</td>\n",
       "      <td>[comment, metric, fluctuations, brane, worlds]</td>\n",
       "      <td>[Y S Myung, G Kang]</td>\n",
       "      <td>[recently, ivanov, volovich, hep-th, 9912242, ...</td>\n",
       "    </tr>\n",
       "    <tr>\n",
       "      <th>1004</th>\n",
       "      <td>2000</td>\n",
       "      <td>moving mirrors and thermodynamic paradoxes</td>\n",
       "      <td>Adam D. Helfer</td>\n",
       "      <td>Phys.Rev.</td>\n",
       "      <td>quantum fields responding to moving mirrors ha...</td>\n",
       "      <td>[moving, mirrors, thermodynamic, paradoxes]</td>\n",
       "      <td>[A D Helfer]</td>\n",
       "      <td>[quantum, fields, responding, moving, mirrors,...</td>\n",
       "    </tr>\n",
       "    <tr>\n",
       "      <th>1005</th>\n",
       "      <td>2000</td>\n",
       "      <td>bundles of chiral blocks and boundary conditio...</td>\n",
       "      <td>J. Fuchs, C. Schweigert</td>\n",
       "      <td></td>\n",
       "      <td>proceedings of lie iii clausthal july 1999 var...</td>\n",
       "      <td>[bundles, chiral, blocks, boundary, conditions...</td>\n",
       "      <td>[J Fuchs, C Schweigert]</td>\n",
       "      <td>[proceedings, lie, iii, clausthal, july, 1999,...</td>\n",
       "    </tr>\n",
       "  </tbody>\n",
       "</table>\n",
       "</div>"
      ],
      "text/plain": [
       "          year                                              title  \\\n",
       "paper_id                                                            \n",
       "1001      2000              compactification geometry and duality   \n",
       "1002      2000  domain walls and massive gauged supergravity p...   \n",
       "1003      2000     comment on metric fluctuations in brane worlds   \n",
       "1004      2000         moving mirrors and thermodynamic paradoxes   \n",
       "1005      2000  bundles of chiral blocks and boundary conditio...   \n",
       "\n",
       "                              authors       journal_name  \\\n",
       "paper_id                                                   \n",
       "1001                Paul S. Aspinwall                      \n",
       "1002      M. Cvetic, H. Lu, C.N. Pope  Class.Quant.Grav.   \n",
       "1003         Y.S. Myung, Gungwon Kang                      \n",
       "1004                   Adam D. Helfer          Phys.Rev.   \n",
       "1005          J. Fuchs, C. Schweigert                      \n",
       "\n",
       "                                                   abstract  \\\n",
       "paper_id                                                      \n",
       "1001      these are notes based on lectures given at tas...   \n",
       "1002      we point out that massive gauged supergravity ...   \n",
       "1003      recently ivanov and volovich hep-th 9912242 cl...   \n",
       "1004      quantum fields responding to moving mirrors ha...   \n",
       "1005      proceedings of lie iii clausthal july 1999 var...   \n",
       "\n",
       "                                            title_processed  \\\n",
       "paper_id                                                      \n",
       "1001                  [compactification, geometry, duality]   \n",
       "1002      [domain, walls, massive, gauged, supergravity,...   \n",
       "1003         [comment, metric, fluctuations, brane, worlds]   \n",
       "1004            [moving, mirrors, thermodynamic, paradoxes]   \n",
       "1005      [bundles, chiral, blocks, boundary, conditions...   \n",
       "\n",
       "                   authors_processed  \\\n",
       "paper_id                               \n",
       "1001                 [P S Aspinwall]   \n",
       "1002      [M Cvetic, H Lu, C N Pope]   \n",
       "1003             [Y S Myung, G Kang]   \n",
       "1004                    [A D Helfer]   \n",
       "1005         [J Fuchs, C Schweigert]   \n",
       "\n",
       "                                         abstract_processed  \n",
       "paper_id                                                     \n",
       "1001      [notes, based, lectures, given, tasi99, review...  \n",
       "1002      [point, massive, gauged, supergravity, potenti...  \n",
       "1003      [recently, ivanov, volovich, hep-th, 9912242, ...  \n",
       "1004      [quantum, fields, responding, moving, mirrors,...  \n",
       "1005      [proceedings, lie, iii, clausthal, july, 1999,...  "
      ]
     },
     "execution_count": 47,
     "metadata": {},
     "output_type": "execute_result"
    }
   ],
   "source": [
    "df_node_info.head()"
   ]
  },
  {
   "cell_type": "markdown",
   "metadata": {},
   "source": [
    "## Neighbors"
   ]
  },
  {
   "cell_type": "markdown",
   "metadata": {},
   "source": [
    "In this section we get the direct neighbors for each node."
   ]
  },
  {
   "cell_type": "code",
   "execution_count": 48,
   "metadata": {},
   "outputs": [],
   "source": [
    "# Train set\n",
    "with open(\"data/training_set.txt\", \"r\") as f:\n",
    "    reader = csv.reader(f)\n",
    "    training_set  = list(reader)\n",
    "\n",
    "training_set = [element[0].split(\" \") for element in training_set]\n",
    "df_train = pd.DataFrame(training_set, columns=[\"source\", \"target\", \"label\"])"
   ]
  },
  {
   "cell_type": "code",
   "execution_count": 49,
   "metadata": {},
   "outputs": [],
   "source": [
    "# Direct neighbors for each source node\n",
    "df_neighbors = df_train.groupby(\"source\")[\"target\"].apply(lambda x: \" \".join(x))"
   ]
  },
  {
   "cell_type": "code",
   "execution_count": 50,
   "metadata": {},
   "outputs": [],
   "source": [
    "df_node_info = df_node_info.join(df_neighbors)\n",
    "df_node_info.rename(columns={\"target\": \"neighbors\"}, inplace=True)"
   ]
  },
  {
   "cell_type": "code",
   "execution_count": 51,
   "metadata": {},
   "outputs": [],
   "source": [
    "# List of neighbors \n",
    "df_node_info[\"neighbors\"] = df_node_info[\"neighbors\"].apply(lambda x: x.split())"
   ]
  },
  {
   "cell_type": "code",
   "execution_count": 52,
   "metadata": {},
   "outputs": [
    {
     "data": {
      "text/html": [
       "<div>\n",
       "<style scoped>\n",
       "    .dataframe tbody tr th:only-of-type {\n",
       "        vertical-align: middle;\n",
       "    }\n",
       "\n",
       "    .dataframe tbody tr th {\n",
       "        vertical-align: top;\n",
       "    }\n",
       "\n",
       "    .dataframe thead th {\n",
       "        text-align: right;\n",
       "    }\n",
       "</style>\n",
       "<table border=\"1\" class=\"dataframe\">\n",
       "  <thead>\n",
       "    <tr style=\"text-align: right;\">\n",
       "      <th></th>\n",
       "      <th>year</th>\n",
       "      <th>title</th>\n",
       "      <th>authors</th>\n",
       "      <th>journal_name</th>\n",
       "      <th>abstract</th>\n",
       "      <th>title_processed</th>\n",
       "      <th>authors_processed</th>\n",
       "      <th>abstract_processed</th>\n",
       "      <th>neighbors</th>\n",
       "    </tr>\n",
       "    <tr>\n",
       "      <th>paper_id</th>\n",
       "      <th></th>\n",
       "      <th></th>\n",
       "      <th></th>\n",
       "      <th></th>\n",
       "      <th></th>\n",
       "      <th></th>\n",
       "      <th></th>\n",
       "      <th></th>\n",
       "      <th></th>\n",
       "    </tr>\n",
       "  </thead>\n",
       "  <tbody>\n",
       "    <tr>\n",
       "      <th>1001</th>\n",
       "      <td>2000</td>\n",
       "      <td>compactification geometry and duality</td>\n",
       "      <td>Paul S. Aspinwall</td>\n",
       "      <td></td>\n",
       "      <td>these are notes based on lectures given at tas...</td>\n",
       "      <td>[compactification, geometry, duality]</td>\n",
       "      <td>[P S Aspinwall]</td>\n",
       "      <td>[notes, based, lectures, given, tasi99, review...</td>\n",
       "      <td>[9603161, 9702094, 9703082, 9507158, 9404151, ...</td>\n",
       "    </tr>\n",
       "    <tr>\n",
       "      <th>1002</th>\n",
       "      <td>2000</td>\n",
       "      <td>domain walls and massive gauged supergravity p...</td>\n",
       "      <td>M. Cvetic, H. Lu, C.N. Pope</td>\n",
       "      <td>Class.Quant.Grav.</td>\n",
       "      <td>we point out that massive gauged supergravity ...</td>\n",
       "      <td>[domain, walls, massive, gauged, supergravity,...</td>\n",
       "      <td>[M Cvetic, H Lu, C N Pope]</td>\n",
       "      <td>[point, massive, gauged, supergravity, potenti...</td>\n",
       "      <td>[9912012, 9812035, 9902155, 9606076, 9809015, ...</td>\n",
       "    </tr>\n",
       "    <tr>\n",
       "      <th>1003</th>\n",
       "      <td>2000</td>\n",
       "      <td>comment on metric fluctuations in brane worlds</td>\n",
       "      <td>Y.S. Myung, Gungwon Kang</td>\n",
       "      <td></td>\n",
       "      <td>recently ivanov and volovich hep-th 9912242 cl...</td>\n",
       "      <td>[comment, metric, fluctuations, brane, worlds]</td>\n",
       "      <td>[Y S Myung, G Kang]</td>\n",
       "      <td>[recently, ivanov, volovich, hep-th, 9912242, ...</td>\n",
       "      <td>[205120, 9409090, 211182, 9912242, 208125, 970...</td>\n",
       "    </tr>\n",
       "    <tr>\n",
       "      <th>1004</th>\n",
       "      <td>2000</td>\n",
       "      <td>moving mirrors and thermodynamic paradoxes</td>\n",
       "      <td>Adam D. Helfer</td>\n",
       "      <td>Phys.Rev.</td>\n",
       "      <td>quantum fields responding to moving mirrors ha...</td>\n",
       "      <td>[moving, mirrors, thermodynamic, paradoxes]</td>\n",
       "      <td>[A D Helfer]</td>\n",
       "      <td>[quantum, fields, responding, moving, mirrors,...</td>\n",
       "      <td>[7129, 9305170, 9608190, 209232, 9910133, 1041...</td>\n",
       "    </tr>\n",
       "    <tr>\n",
       "      <th>1005</th>\n",
       "      <td>2000</td>\n",
       "      <td>bundles of chiral blocks and boundary conditio...</td>\n",
       "      <td>J. Fuchs, C. Schweigert</td>\n",
       "      <td></td>\n",
       "      <td>proceedings of lie iii clausthal july 1999 var...</td>\n",
       "      <td>[bundles, chiral, blocks, boundary, conditions...</td>\n",
       "      <td>[J Fuchs, C Schweigert]</td>\n",
       "      <td>[proceedings, lie, iii, clausthal, july, 1999,...</td>\n",
       "      <td>[9908025, 9909114, 4153, 9805026, 9307074, 960...</td>\n",
       "    </tr>\n",
       "  </tbody>\n",
       "</table>\n",
       "</div>"
      ],
      "text/plain": [
       "          year                                              title  \\\n",
       "paper_id                                                            \n",
       "1001      2000              compactification geometry and duality   \n",
       "1002      2000  domain walls and massive gauged supergravity p...   \n",
       "1003      2000     comment on metric fluctuations in brane worlds   \n",
       "1004      2000         moving mirrors and thermodynamic paradoxes   \n",
       "1005      2000  bundles of chiral blocks and boundary conditio...   \n",
       "\n",
       "                              authors       journal_name  \\\n",
       "paper_id                                                   \n",
       "1001                Paul S. Aspinwall                      \n",
       "1002      M. Cvetic, H. Lu, C.N. Pope  Class.Quant.Grav.   \n",
       "1003         Y.S. Myung, Gungwon Kang                      \n",
       "1004                   Adam D. Helfer          Phys.Rev.   \n",
       "1005          J. Fuchs, C. Schweigert                      \n",
       "\n",
       "                                                   abstract  \\\n",
       "paper_id                                                      \n",
       "1001      these are notes based on lectures given at tas...   \n",
       "1002      we point out that massive gauged supergravity ...   \n",
       "1003      recently ivanov and volovich hep-th 9912242 cl...   \n",
       "1004      quantum fields responding to moving mirrors ha...   \n",
       "1005      proceedings of lie iii clausthal july 1999 var...   \n",
       "\n",
       "                                            title_processed  \\\n",
       "paper_id                                                      \n",
       "1001                  [compactification, geometry, duality]   \n",
       "1002      [domain, walls, massive, gauged, supergravity,...   \n",
       "1003         [comment, metric, fluctuations, brane, worlds]   \n",
       "1004            [moving, mirrors, thermodynamic, paradoxes]   \n",
       "1005      [bundles, chiral, blocks, boundary, conditions...   \n",
       "\n",
       "                   authors_processed  \\\n",
       "paper_id                               \n",
       "1001                 [P S Aspinwall]   \n",
       "1002      [M Cvetic, H Lu, C N Pope]   \n",
       "1003             [Y S Myung, G Kang]   \n",
       "1004                    [A D Helfer]   \n",
       "1005         [J Fuchs, C Schweigert]   \n",
       "\n",
       "                                         abstract_processed  \\\n",
       "paper_id                                                      \n",
       "1001      [notes, based, lectures, given, tasi99, review...   \n",
       "1002      [point, massive, gauged, supergravity, potenti...   \n",
       "1003      [recently, ivanov, volovich, hep-th, 9912242, ...   \n",
       "1004      [quantum, fields, responding, moving, mirrors,...   \n",
       "1005      [proceedings, lie, iii, clausthal, july, 1999,...   \n",
       "\n",
       "                                                  neighbors  \n",
       "paper_id                                                     \n",
       "1001      [9603161, 9702094, 9703082, 9507158, 9404151, ...  \n",
       "1002      [9912012, 9812035, 9902155, 9606076, 9809015, ...  \n",
       "1003      [205120, 9409090, 211182, 9912242, 208125, 970...  \n",
       "1004      [7129, 9305170, 9608190, 209232, 9910133, 1041...  \n",
       "1005      [9908025, 9909114, 4153, 9805026, 9307074, 960...  "
      ]
     },
     "execution_count": 52,
     "metadata": {},
     "output_type": "execute_result"
    }
   ],
   "source": [
    "df_node_info.head()"
   ]
  },
  {
   "cell_type": "markdown",
   "metadata": {},
   "source": [
    "## Bag of Words Abstract"
   ]
  },
  {
   "cell_type": "code",
   "execution_count": 53,
   "metadata": {},
   "outputs": [],
   "source": [
    "from utils import Word2vec, BoV"
   ]
  },
  {
   "cell_type": "code",
   "execution_count": 54,
   "metadata": {},
   "outputs": [],
   "source": [
    "path_embeddings = r\"C:\\Users\\Nasser Benab\\Documents\\school\\m.v.a\\deep_learning\\mini_projects\\mp2\\data\""
   ]
  },
  {
   "cell_type": "markdown",
   "metadata": {},
   "source": [
    "In this section, we encode the abstract using BoV embedding."
   ]
  },
  {
   "cell_type": "code",
   "execution_count": 55,
   "metadata": {},
   "outputs": [
    {
     "name": "stdout",
     "output_type": "stream",
     "text": [
      "Loaded 200000 pretrained word vectors\n"
     ]
    }
   ],
   "source": [
    "w2v = Word2vec(os.path.join(path_embeddings, \"crawl-300d-200k.vec\"), \n",
    "               nmax=200000)\n",
    "s2v = BoV(w2v)"
   ]
  },
  {
   "cell_type": "code",
   "execution_count": 56,
   "metadata": {},
   "outputs": [],
   "source": [
    "df_node_info[\"abstract_embedding\"] = [embd for embd \n",
    "                                      in s2v.encode(df_node_info.abstract_processed)]"
   ]
  },
  {
   "cell_type": "code",
   "execution_count": 57,
   "metadata": {},
   "outputs": [
    {
     "data": {
      "text/html": [
       "<div>\n",
       "<style scoped>\n",
       "    .dataframe tbody tr th:only-of-type {\n",
       "        vertical-align: middle;\n",
       "    }\n",
       "\n",
       "    .dataframe tbody tr th {\n",
       "        vertical-align: top;\n",
       "    }\n",
       "\n",
       "    .dataframe thead th {\n",
       "        text-align: right;\n",
       "    }\n",
       "</style>\n",
       "<table border=\"1\" class=\"dataframe\">\n",
       "  <thead>\n",
       "    <tr style=\"text-align: right;\">\n",
       "      <th></th>\n",
       "      <th>year</th>\n",
       "      <th>title</th>\n",
       "      <th>authors</th>\n",
       "      <th>journal_name</th>\n",
       "      <th>abstract</th>\n",
       "      <th>title_processed</th>\n",
       "      <th>authors_processed</th>\n",
       "      <th>abstract_processed</th>\n",
       "      <th>neighbors</th>\n",
       "      <th>abstract_embedding</th>\n",
       "    </tr>\n",
       "    <tr>\n",
       "      <th>paper_id</th>\n",
       "      <th></th>\n",
       "      <th></th>\n",
       "      <th></th>\n",
       "      <th></th>\n",
       "      <th></th>\n",
       "      <th></th>\n",
       "      <th></th>\n",
       "      <th></th>\n",
       "      <th></th>\n",
       "      <th></th>\n",
       "    </tr>\n",
       "  </thead>\n",
       "  <tbody>\n",
       "    <tr>\n",
       "      <th>1001</th>\n",
       "      <td>2000</td>\n",
       "      <td>compactification geometry and duality</td>\n",
       "      <td>Paul S. Aspinwall</td>\n",
       "      <td></td>\n",
       "      <td>these are notes based on lectures given at tas...</td>\n",
       "      <td>[compactification, geometry, duality]</td>\n",
       "      <td>[P S Aspinwall]</td>\n",
       "      <td>[notes, based, lectures, given, tasi99, review...</td>\n",
       "      <td>[9603161, 9702094, 9703082, 9507158, 9404151, ...</td>\n",
       "      <td>[0.016762745098039215, 0.15632156862745095, -0...</td>\n",
       "    </tr>\n",
       "    <tr>\n",
       "      <th>1002</th>\n",
       "      <td>2000</td>\n",
       "      <td>domain walls and massive gauged supergravity p...</td>\n",
       "      <td>M. Cvetic, H. Lu, C.N. Pope</td>\n",
       "      <td>Class.Quant.Grav.</td>\n",
       "      <td>we point out that massive gauged supergravity ...</td>\n",
       "      <td>[domain, walls, massive, gauged, supergravity,...</td>\n",
       "      <td>[M Cvetic, H Lu, C N Pope]</td>\n",
       "      <td>[point, massive, gauged, supergravity, potenti...</td>\n",
       "      <td>[9912012, 9812035, 9902155, 9606076, 9809015, ...</td>\n",
       "      <td>[0.04356931818181819, 0.1502068181818182, -0.0...</td>\n",
       "    </tr>\n",
       "    <tr>\n",
       "      <th>1003</th>\n",
       "      <td>2000</td>\n",
       "      <td>comment on metric fluctuations in brane worlds</td>\n",
       "      <td>Y.S. Myung, Gungwon Kang</td>\n",
       "      <td></td>\n",
       "      <td>recently ivanov and volovich hep-th 9912242 cl...</td>\n",
       "      <td>[comment, metric, fluctuations, brane, worlds]</td>\n",
       "      <td>[Y S Myung, G Kang]</td>\n",
       "      <td>[recently, ivanov, volovich, hep-th, 9912242, ...</td>\n",
       "      <td>[205120, 9409090, 211182, 9912242, 208125, 970...</td>\n",
       "      <td>[-0.012898113207547173, 0.23114905660377363, -...</td>\n",
       "    </tr>\n",
       "    <tr>\n",
       "      <th>1004</th>\n",
       "      <td>2000</td>\n",
       "      <td>moving mirrors and thermodynamic paradoxes</td>\n",
       "      <td>Adam D. Helfer</td>\n",
       "      <td>Phys.Rev.</td>\n",
       "      <td>quantum fields responding to moving mirrors ha...</td>\n",
       "      <td>[moving, mirrors, thermodynamic, paradoxes]</td>\n",
       "      <td>[A D Helfer]</td>\n",
       "      <td>[quantum, fields, responding, moving, mirrors,...</td>\n",
       "      <td>[7129, 9305170, 9608190, 209232, 9910133, 1041...</td>\n",
       "      <td>[0.005588000000000004, 0.15716799999999997, 0....</td>\n",
       "    </tr>\n",
       "    <tr>\n",
       "      <th>1005</th>\n",
       "      <td>2000</td>\n",
       "      <td>bundles of chiral blocks and boundary conditio...</td>\n",
       "      <td>J. Fuchs, C. Schweigert</td>\n",
       "      <td></td>\n",
       "      <td>proceedings of lie iii clausthal july 1999 var...</td>\n",
       "      <td>[bundles, chiral, blocks, boundary, conditions...</td>\n",
       "      <td>[J Fuchs, C Schweigert]</td>\n",
       "      <td>[proceedings, lie, iii, clausthal, july, 1999,...</td>\n",
       "      <td>[9908025, 9909114, 4153, 9805026, 9307074, 960...</td>\n",
       "      <td>[0.08252173913043478, 0.15854347826086954, -0....</td>\n",
       "    </tr>\n",
       "  </tbody>\n",
       "</table>\n",
       "</div>"
      ],
      "text/plain": [
       "          year                                              title  \\\n",
       "paper_id                                                            \n",
       "1001      2000              compactification geometry and duality   \n",
       "1002      2000  domain walls and massive gauged supergravity p...   \n",
       "1003      2000     comment on metric fluctuations in brane worlds   \n",
       "1004      2000         moving mirrors and thermodynamic paradoxes   \n",
       "1005      2000  bundles of chiral blocks and boundary conditio...   \n",
       "\n",
       "                              authors       journal_name  \\\n",
       "paper_id                                                   \n",
       "1001                Paul S. Aspinwall                      \n",
       "1002      M. Cvetic, H. Lu, C.N. Pope  Class.Quant.Grav.   \n",
       "1003         Y.S. Myung, Gungwon Kang                      \n",
       "1004                   Adam D. Helfer          Phys.Rev.   \n",
       "1005          J. Fuchs, C. Schweigert                      \n",
       "\n",
       "                                                   abstract  \\\n",
       "paper_id                                                      \n",
       "1001      these are notes based on lectures given at tas...   \n",
       "1002      we point out that massive gauged supergravity ...   \n",
       "1003      recently ivanov and volovich hep-th 9912242 cl...   \n",
       "1004      quantum fields responding to moving mirrors ha...   \n",
       "1005      proceedings of lie iii clausthal july 1999 var...   \n",
       "\n",
       "                                            title_processed  \\\n",
       "paper_id                                                      \n",
       "1001                  [compactification, geometry, duality]   \n",
       "1002      [domain, walls, massive, gauged, supergravity,...   \n",
       "1003         [comment, metric, fluctuations, brane, worlds]   \n",
       "1004            [moving, mirrors, thermodynamic, paradoxes]   \n",
       "1005      [bundles, chiral, blocks, boundary, conditions...   \n",
       "\n",
       "                   authors_processed  \\\n",
       "paper_id                               \n",
       "1001                 [P S Aspinwall]   \n",
       "1002      [M Cvetic, H Lu, C N Pope]   \n",
       "1003             [Y S Myung, G Kang]   \n",
       "1004                    [A D Helfer]   \n",
       "1005         [J Fuchs, C Schweigert]   \n",
       "\n",
       "                                         abstract_processed  \\\n",
       "paper_id                                                      \n",
       "1001      [notes, based, lectures, given, tasi99, review...   \n",
       "1002      [point, massive, gauged, supergravity, potenti...   \n",
       "1003      [recently, ivanov, volovich, hep-th, 9912242, ...   \n",
       "1004      [quantum, fields, responding, moving, mirrors,...   \n",
       "1005      [proceedings, lie, iii, clausthal, july, 1999,...   \n",
       "\n",
       "                                                  neighbors  \\\n",
       "paper_id                                                      \n",
       "1001      [9603161, 9702094, 9703082, 9507158, 9404151, ...   \n",
       "1002      [9912012, 9812035, 9902155, 9606076, 9809015, ...   \n",
       "1003      [205120, 9409090, 211182, 9912242, 208125, 970...   \n",
       "1004      [7129, 9305170, 9608190, 209232, 9910133, 1041...   \n",
       "1005      [9908025, 9909114, 4153, 9805026, 9307074, 960...   \n",
       "\n",
       "                                         abstract_embedding  \n",
       "paper_id                                                     \n",
       "1001      [0.016762745098039215, 0.15632156862745095, -0...  \n",
       "1002      [0.04356931818181819, 0.1502068181818182, -0.0...  \n",
       "1003      [-0.012898113207547173, 0.23114905660377363, -...  \n",
       "1004      [0.005588000000000004, 0.15716799999999997, 0....  \n",
       "1005      [0.08252173913043478, 0.15854347826086954, -0....  "
      ]
     },
     "execution_count": 57,
     "metadata": {},
     "output_type": "execute_result"
    }
   ],
   "source": [
    "df_node_info.head()"
   ]
  },
  {
   "cell_type": "code",
   "execution_count": 58,
   "metadata": {},
   "outputs": [],
   "source": [
    "# Save the new data for the node information\n",
    "# df_node_info.to_csv(\"data/node_information_completed.csv\")"
   ]
  },
  {
   "cell_type": "markdown",
   "metadata": {},
   "source": [
    "Be careful, the embeddings are stored in arrays, but when saving they are turned to strings !"
   ]
  },
  {
   "cell_type": "markdown",
   "metadata": {},
   "source": [
    "## Node2vec embeddings"
   ]
  },
  {
   "cell_type": "markdown",
   "metadata": {},
   "source": [
    "The node2vec embeddings have been created using this [implementation](https://github.com/snap-stanford/snap/tree/master/examples/node2vec) on our directed graph. When computing the embeddings for the edges, we have used the Hadamard product of the source and target 128-dimensional embeddings. If a node is isolated, we use a null vector as its embedding (cf `utils.nodes_to_edge_embedding`)."
   ]
  },
  {
   "cell_type": "code",
   "execution_count": 23,
   "metadata": {},
   "outputs": [
    {
     "name": "stdout",
     "output_type": "stream",
     "text": [
      "Loaded 27684 node embeddings\n"
     ]
    }
   ],
   "source": [
    "node_embeddings = {}\n",
    "with open(\"data/nodes.emb\", \"r\") as f:\n",
    "    next(f)\n",
    "    for i, line in enumerate(f):\n",
    "        node_id, vec = line.split(\" \", 1)\n",
    "        node_embeddings[node_id] = np.fromstring(vec, sep=\" \")\n",
    "    print(\"Loaded {} node embeddings\".format(len(node_embeddings)))\n",
    "    "
   ]
  },
  {
   "cell_type": "markdown",
   "metadata": {},
   "source": [
    "> There are 27770 nodes in total in the network, 86 nodes are isolated"
   ]
  },
  {
   "cell_type": "markdown",
   "metadata": {},
   "source": [
    "# Feature engineering"
   ]
  },
  {
   "cell_type": "markdown",
   "metadata": {},
   "source": [
    "In order to be able to create a new feature, simply add a method to `FeatureEngineering` (e.g. `jaccard_coefficient`)."
   ]
  },
  {
   "cell_type": "code",
   "execution_count": 33,
   "metadata": {},
   "outputs": [],
   "source": [
    "from feature_engineering import FeatureEngineering"
   ]
  },
  {
   "cell_type": "code",
   "execution_count": 25,
   "metadata": {},
   "outputs": [],
   "source": [
    "# df_node_info = pd.read_csv(\"data/node_information_completed.csv\", index_col=0)\n",
    "# # The nodes are represented as strings as in the network data\n",
    "df_node_info.index = df_node_info.index.astype(\"str\")"
   ]
  },
  {
   "cell_type": "code",
   "execution_count": 180,
   "metadata": {
    "scrolled": true
   },
   "outputs": [
    {
     "name": "stdout",
     "output_type": "stream",
     "text": [
      "--> Opening the source-node data\n",
      "--> Computing and adding the edge embeddings\n",
      "--> Merging the source-node data with the node information\n",
      "--> Creating an undirected graph from the training data\n",
      "--> Creating a directed graph from the training data\n"
     ]
    }
   ],
   "source": [
    "feature_engineer = FeatureEngineering(df_node_info, node_embeddings,\n",
    "                                      path_embeddings=path_embeddings,\n",
    "                                      data=\"train\")"
   ]
  },
  {
   "cell_type": "code",
   "execution_count": 32,
   "metadata": {},
   "outputs": [],
   "source": [
    "# Features to create \n",
    "features_to_create = [\"in_degree_source\", \"in_degree_target\", \"out_degree_source\", \"out_degree_target\", \n",
    "            \"title_overlap\", \"temp_diff\", \"abstract_overlap\", \n",
    "            \"is_same_journal\", \"jaccard_coefficient\", \"adamic_adar\", \"pref_attachment\", \n",
    "            \"common_neighbors\", \"abstract_cosine_similarity\"]\n",
    "embedding_columns = [\"emb{}\".format(i+1) for i in range(128)]\n",
    "\n",
    "features_columns = features_to_create + embedding_columns\n",
    "features_label_columns = features_columns + [\"label\"]"
   ]
  },
  {
   "cell_type": "code",
   "execution_count": 183,
   "metadata": {},
   "outputs": [
    {
     "name": "stdout",
     "output_type": "stream",
     "text": [
      "--> Creating the feature 'in_degree_source' ...\n",
      "it took 0min 31s\n",
      "--> Creating the feature 'in_degree_target' ...\n",
      "it took 0min 23s\n",
      "--> Creating the feature 'out_degree_source' ...\n",
      "it took 0min 21s\n",
      "--> Creating the feature 'out_degree_target' ...\n",
      "it took 0min 21s\n",
      "--> Creating the feature 'title_overlap' ...\n",
      "it took 0min 31s\n",
      "--> Creating the feature 'temp_diff' ...\n",
      "it took 0min 27s\n",
      "--> Creating the feature 'abstract_overlap' ...\n",
      "it took 1min 19s\n",
      "--> Creating the feature 'is_same_journal' ...\n",
      "it took 0min 0s\n",
      "--> Creating the feature 'jaccard_coefficient' ...\n",
      "it took 0min 35s\n",
      "--> Creating the feature 'adamic_adar' ...\n",
      "it took 2min 22s\n",
      "--> Creating the feature 'pref_attachment' ...\n",
      "it took 0min 52s\n",
      "--> Creating the feature 'common_neighbors' ...\n",
      "it took 0min 34s\n",
      "--> Creating the feature 'abstract_cosine_similarity' ...\n",
      "Loaded 200000 pretrained word vectors\n",
      "it took 1min 43s\n",
      "Wall time: 9min 57s\n"
     ]
    }
   ],
   "source": [
    "%time feature_engineer.create_features(features=features_to_create)"
   ]
  },
  {
   "cell_type": "code",
   "execution_count": 202,
   "metadata": {},
   "outputs": [],
   "source": [
    "# Save the created features \n",
    "feature_engineer.df[features_label_columns].to_csv(\"data/data_features.csv\")"
   ]
  },
  {
   "cell_type": "markdown",
   "metadata": {},
   "source": [
    "# Feature Selection "
   ]
  },
  {
   "cell_type": "code",
   "execution_count": 118,
   "metadata": {},
   "outputs": [],
   "source": [
    "from sklearn.ensemble import RandomForestClassifier\n",
    "from utils import random_forest_features_importances"
   ]
  },
  {
   "cell_type": "markdown",
   "metadata": {},
   "source": [
    "In this section, we study the impact of the different features on the `f1-score`, using a Random Forest classifier with 10 trees.\n",
    "The importance of each feature corresponds to the \"gini importance\" or \"mean decrease impurity\" and is defined as the total decrease in node impurity (weighted by the probability of reaching that node (which is approximated by the proportion of samples reaching that node) averaged over all trees of the ensemble.\n",
    "\n",
    "Let's denote by $F$ the set of **13 features**: `in_degree_source`, `in_degree_target`, `out_degree_source`, `out_degree_target`, `title_overlap`, `temp_diff`, `abstract_overlap`, `is_same_journal`, `jaccard_coefficient`, `adamic_adar`, `pref_attachment`, `common_neighbors`, `abstract_cosine_similarity`.\n",
    "\n",
    "We will compare the performance of the Random Forest on the *node2vec* 128 embeddings, the set $F$, and the two combined. This is done using a 5-fold cross-validation on the training set."
   ]
  },
  {
   "cell_type": "code",
   "execution_count": 6,
   "metadata": {},
   "outputs": [],
   "source": [
    "df = pd.read_csv(\"data/data_features.csv\", index_col=0)"
   ]
  },
  {
   "cell_type": "code",
   "execution_count": 7,
   "metadata": {},
   "outputs": [
    {
     "data": {
      "text/html": [
       "<div>\n",
       "<style scoped>\n",
       "    .dataframe tbody tr th:only-of-type {\n",
       "        vertical-align: middle;\n",
       "    }\n",
       "\n",
       "    .dataframe tbody tr th {\n",
       "        vertical-align: top;\n",
       "    }\n",
       "\n",
       "    .dataframe thead th {\n",
       "        text-align: right;\n",
       "    }\n",
       "</style>\n",
       "<table border=\"1\" class=\"dataframe\">\n",
       "  <thead>\n",
       "    <tr style=\"text-align: right;\">\n",
       "      <th></th>\n",
       "      <th>in_degree_source</th>\n",
       "      <th>in_degree_target</th>\n",
       "      <th>out_degree_source</th>\n",
       "      <th>out_degree_target</th>\n",
       "      <th>title_overlap</th>\n",
       "      <th>temp_diff</th>\n",
       "      <th>abstract_overlap</th>\n",
       "      <th>is_same_journal</th>\n",
       "      <th>jaccard_coefficient</th>\n",
       "      <th>adamic_adar</th>\n",
       "      <th>pref_attachment</th>\n",
       "      <th>common_neighbors</th>\n",
       "      <th>abstract_cosine_similarity</th>\n",
       "      <th>emb1</th>\n",
       "      <th>emb2</th>\n",
       "      <th>emb3</th>\n",
       "      <th>emb4</th>\n",
       "      <th>emb5</th>\n",
       "      <th>emb6</th>\n",
       "      <th>emb7</th>\n",
       "      <th>emb8</th>\n",
       "      <th>emb9</th>\n",
       "      <th>emb10</th>\n",
       "      <th>emb11</th>\n",
       "      <th>emb12</th>\n",
       "      <th>emb13</th>\n",
       "      <th>emb14</th>\n",
       "      <th>emb15</th>\n",
       "      <th>emb16</th>\n",
       "      <th>emb17</th>\n",
       "      <th>emb18</th>\n",
       "      <th>emb19</th>\n",
       "      <th>emb20</th>\n",
       "      <th>emb21</th>\n",
       "      <th>emb22</th>\n",
       "      <th>emb23</th>\n",
       "      <th>emb24</th>\n",
       "      <th>emb25</th>\n",
       "      <th>emb26</th>\n",
       "      <th>emb27</th>\n",
       "      <th>emb28</th>\n",
       "      <th>emb29</th>\n",
       "      <th>emb30</th>\n",
       "      <th>emb31</th>\n",
       "      <th>emb32</th>\n",
       "      <th>emb33</th>\n",
       "      <th>emb34</th>\n",
       "      <th>emb35</th>\n",
       "      <th>emb36</th>\n",
       "      <th>emb37</th>\n",
       "      <th>emb38</th>\n",
       "      <th>emb39</th>\n",
       "      <th>emb40</th>\n",
       "      <th>emb41</th>\n",
       "      <th>emb42</th>\n",
       "      <th>emb43</th>\n",
       "      <th>emb44</th>\n",
       "      <th>emb45</th>\n",
       "      <th>emb46</th>\n",
       "      <th>emb47</th>\n",
       "      <th>emb48</th>\n",
       "      <th>emb49</th>\n",
       "      <th>emb50</th>\n",
       "      <th>emb51</th>\n",
       "      <th>emb52</th>\n",
       "      <th>emb53</th>\n",
       "      <th>emb54</th>\n",
       "      <th>emb55</th>\n",
       "      <th>emb56</th>\n",
       "      <th>emb57</th>\n",
       "      <th>emb58</th>\n",
       "      <th>emb59</th>\n",
       "      <th>emb60</th>\n",
       "      <th>emb61</th>\n",
       "      <th>emb62</th>\n",
       "      <th>emb63</th>\n",
       "      <th>emb64</th>\n",
       "      <th>emb65</th>\n",
       "      <th>emb66</th>\n",
       "      <th>emb67</th>\n",
       "      <th>emb68</th>\n",
       "      <th>emb69</th>\n",
       "      <th>emb70</th>\n",
       "      <th>emb71</th>\n",
       "      <th>emb72</th>\n",
       "      <th>emb73</th>\n",
       "      <th>emb74</th>\n",
       "      <th>emb75</th>\n",
       "      <th>emb76</th>\n",
       "      <th>emb77</th>\n",
       "      <th>emb78</th>\n",
       "      <th>emb79</th>\n",
       "      <th>emb80</th>\n",
       "      <th>emb81</th>\n",
       "      <th>emb82</th>\n",
       "      <th>emb83</th>\n",
       "      <th>emb84</th>\n",
       "      <th>emb85</th>\n",
       "      <th>emb86</th>\n",
       "      <th>emb87</th>\n",
       "      <th>emb88</th>\n",
       "      <th>emb89</th>\n",
       "      <th>emb90</th>\n",
       "      <th>emb91</th>\n",
       "      <th>emb92</th>\n",
       "      <th>emb93</th>\n",
       "      <th>emb94</th>\n",
       "      <th>emb95</th>\n",
       "      <th>emb96</th>\n",
       "      <th>emb97</th>\n",
       "      <th>emb98</th>\n",
       "      <th>emb99</th>\n",
       "      <th>emb100</th>\n",
       "      <th>emb101</th>\n",
       "      <th>emb102</th>\n",
       "      <th>emb103</th>\n",
       "      <th>emb104</th>\n",
       "      <th>emb105</th>\n",
       "      <th>emb106</th>\n",
       "      <th>emb107</th>\n",
       "      <th>emb108</th>\n",
       "      <th>emb109</th>\n",
       "      <th>emb110</th>\n",
       "      <th>emb111</th>\n",
       "      <th>emb112</th>\n",
       "      <th>emb113</th>\n",
       "      <th>emb114</th>\n",
       "      <th>emb115</th>\n",
       "      <th>emb116</th>\n",
       "      <th>emb117</th>\n",
       "      <th>emb118</th>\n",
       "      <th>emb119</th>\n",
       "      <th>emb120</th>\n",
       "      <th>emb121</th>\n",
       "      <th>emb122</th>\n",
       "      <th>emb123</th>\n",
       "      <th>emb124</th>\n",
       "      <th>emb125</th>\n",
       "      <th>emb126</th>\n",
       "      <th>emb127</th>\n",
       "      <th>emb128</th>\n",
       "      <th>label</th>\n",
       "    </tr>\n",
       "  </thead>\n",
       "  <tbody>\n",
       "    <tr>\n",
       "      <th>0</th>\n",
       "      <td>3</td>\n",
       "      <td>8</td>\n",
       "      <td>3</td>\n",
       "      <td>4</td>\n",
       "      <td>2</td>\n",
       "      <td>0</td>\n",
       "      <td>6</td>\n",
       "      <td>1</td>\n",
       "      <td>0.062500</td>\n",
       "      <td>0.513898</td>\n",
       "      <td>72</td>\n",
       "      <td>1</td>\n",
       "      <td>0.819155</td>\n",
       "      <td>0.014731</td>\n",
       "      <td>0.000464</td>\n",
       "      <td>0.001126</td>\n",
       "      <td>0.006963</td>\n",
       "      <td>-0.000007</td>\n",
       "      <td>-0.000003</td>\n",
       "      <td>0.001664</td>\n",
       "      <td>0.001189</td>\n",
       "      <td>5.352388e-04</td>\n",
       "      <td>0.001202</td>\n",
       "      <td>0.003600</td>\n",
       "      <td>0.001908</td>\n",
       "      <td>0.002489</td>\n",
       "      <td>0.000068</td>\n",
       "      <td>0.002816</td>\n",
       "      <td>1.830387e-04</td>\n",
       "      <td>0.004138</td>\n",
       "      <td>0.005182</td>\n",
       "      <td>0.004700</td>\n",
       "      <td>0.001164</td>\n",
       "      <td>0.000011</td>\n",
       "      <td>0.013604</td>\n",
       "      <td>0.000652</td>\n",
       "      <td>0.001165</td>\n",
       "      <td>0.001034</td>\n",
       "      <td>0.000507</td>\n",
       "      <td>0.000970</td>\n",
       "      <td>0.004729</td>\n",
       "      <td>0.000006</td>\n",
       "      <td>0.014427</td>\n",
       "      <td>0.001276</td>\n",
       "      <td>0.003345</td>\n",
       "      <td>0.001294</td>\n",
       "      <td>0.001742</td>\n",
       "      <td>0.000058</td>\n",
       "      <td>0.004332</td>\n",
       "      <td>0.003503</td>\n",
       "      <td>0.003274</td>\n",
       "      <td>0.003499</td>\n",
       "      <td>0.001227</td>\n",
       "      <td>0.000033</td>\n",
       "      <td>0.006026</td>\n",
       "      <td>0.000693</td>\n",
       "      <td>0.000048</td>\n",
       "      <td>0.001444</td>\n",
       "      <td>0.000606</td>\n",
       "      <td>0.002730</td>\n",
       "      <td>0.000328</td>\n",
       "      <td>0.000079</td>\n",
       "      <td>5.923105e-04</td>\n",
       "      <td>0.000210</td>\n",
       "      <td>-0.000035</td>\n",
       "      <td>0.000550</td>\n",
       "      <td>0.001777</td>\n",
       "      <td>0.001086</td>\n",
       "      <td>0.002278</td>\n",
       "      <td>0.000407</td>\n",
       "      <td>0.006299</td>\n",
       "      <td>0.002975</td>\n",
       "      <td>0.001543</td>\n",
       "      <td>0.008894</td>\n",
       "      <td>0.000045</td>\n",
       "      <td>0.000500</td>\n",
       "      <td>0.000825</td>\n",
       "      <td>0.000451</td>\n",
       "      <td>0.000677</td>\n",
       "      <td>0.003411</td>\n",
       "      <td>7.004193e-04</td>\n",
       "      <td>0.000093</td>\n",
       "      <td>0.010883</td>\n",
       "      <td>0.000975</td>\n",
       "      <td>0.000548</td>\n",
       "      <td>0.014016</td>\n",
       "      <td>0.001179</td>\n",
       "      <td>0.001621</td>\n",
       "      <td>0.005963</td>\n",
       "      <td>-3.068602e-06</td>\n",
       "      <td>0.000104</td>\n",
       "      <td>0.000155</td>\n",
       "      <td>0.001787</td>\n",
       "      <td>0.001740</td>\n",
       "      <td>0.001554</td>\n",
       "      <td>0.000305</td>\n",
       "      <td>0.000535</td>\n",
       "      <td>0.002769</td>\n",
       "      <td>0.000003</td>\n",
       "      <td>0.010570</td>\n",
       "      <td>0.001702</td>\n",
       "      <td>0.000733</td>\n",
       "      <td>0.003305</td>\n",
       "      <td>0.000006</td>\n",
       "      <td>0.008535</td>\n",
       "      <td>0.000389</td>\n",
       "      <td>0.002724</td>\n",
       "      <td>0.001640</td>\n",
       "      <td>0.001407</td>\n",
       "      <td>0.000012</td>\n",
       "      <td>0.001414</td>\n",
       "      <td>0.006466</td>\n",
       "      <td>0.004306</td>\n",
       "      <td>0.002465</td>\n",
       "      <td>0.000341</td>\n",
       "      <td>0.003546</td>\n",
       "      <td>0.000154</td>\n",
       "      <td>1.694162e-04</td>\n",
       "      <td>0.002555</td>\n",
       "      <td>0.000421</td>\n",
       "      <td>0.000222</td>\n",
       "      <td>0.000870</td>\n",
       "      <td>0.000006</td>\n",
       "      <td>0.000186</td>\n",
       "      <td>0.000324</td>\n",
       "      <td>0.001615</td>\n",
       "      <td>0.003179</td>\n",
       "      <td>-0.000002</td>\n",
       "      <td>0.008223</td>\n",
       "      <td>0.000525</td>\n",
       "      <td>0.003989</td>\n",
       "      <td>0.000791</td>\n",
       "      <td>0.000270</td>\n",
       "      <td>7.196812e-08</td>\n",
       "      <td>0.000015</td>\n",
       "      <td>0.004535</td>\n",
       "      <td>0.000520</td>\n",
       "      <td>0.000669</td>\n",
       "      <td>-9.162506e-07</td>\n",
       "      <td>0.005291</td>\n",
       "      <td>0.009761</td>\n",
       "      <td>1</td>\n",
       "    </tr>\n",
       "    <tr>\n",
       "      <th>1</th>\n",
       "      <td>11</td>\n",
       "      <td>124</td>\n",
       "      <td>68</td>\n",
       "      <td>23</td>\n",
       "      <td>0</td>\n",
       "      <td>1</td>\n",
       "      <td>6</td>\n",
       "      <td>0</td>\n",
       "      <td>0.069565</td>\n",
       "      <td>4.320366</td>\n",
       "      <td>11613</td>\n",
       "      <td>8</td>\n",
       "      <td>0.761980</td>\n",
       "      <td>0.123033</td>\n",
       "      <td>0.007381</td>\n",
       "      <td>0.020730</td>\n",
       "      <td>0.023512</td>\n",
       "      <td>0.000234</td>\n",
       "      <td>0.009455</td>\n",
       "      <td>0.019526</td>\n",
       "      <td>-0.004014</td>\n",
       "      <td>-6.028826e-04</td>\n",
       "      <td>0.001052</td>\n",
       "      <td>0.004027</td>\n",
       "      <td>0.000473</td>\n",
       "      <td>0.021602</td>\n",
       "      <td>0.002667</td>\n",
       "      <td>-0.001530</td>\n",
       "      <td>1.957685e-02</td>\n",
       "      <td>0.003978</td>\n",
       "      <td>0.034494</td>\n",
       "      <td>0.029158</td>\n",
       "      <td>0.000161</td>\n",
       "      <td>0.009475</td>\n",
       "      <td>0.027425</td>\n",
       "      <td>-0.001157</td>\n",
       "      <td>0.000342</td>\n",
       "      <td>0.003899</td>\n",
       "      <td>0.012318</td>\n",
       "      <td>0.002769</td>\n",
       "      <td>0.034871</td>\n",
       "      <td>0.016022</td>\n",
       "      <td>0.014213</td>\n",
       "      <td>0.015737</td>\n",
       "      <td>0.033106</td>\n",
       "      <td>0.002641</td>\n",
       "      <td>0.033401</td>\n",
       "      <td>0.001663</td>\n",
       "      <td>0.026819</td>\n",
       "      <td>0.028680</td>\n",
       "      <td>0.007182</td>\n",
       "      <td>0.072009</td>\n",
       "      <td>-0.002329</td>\n",
       "      <td>0.007942</td>\n",
       "      <td>-0.001540</td>\n",
       "      <td>0.043186</td>\n",
       "      <td>0.020565</td>\n",
       "      <td>0.020066</td>\n",
       "      <td>0.044115</td>\n",
       "      <td>0.023695</td>\n",
       "      <td>0.005646</td>\n",
       "      <td>0.001308</td>\n",
       "      <td>7.623107e-03</td>\n",
       "      <td>0.014223</td>\n",
       "      <td>0.042206</td>\n",
       "      <td>0.037443</td>\n",
       "      <td>0.051150</td>\n",
       "      <td>0.000084</td>\n",
       "      <td>0.000226</td>\n",
       "      <td>0.005331</td>\n",
       "      <td>0.008431</td>\n",
       "      <td>0.053607</td>\n",
       "      <td>0.003158</td>\n",
       "      <td>0.037578</td>\n",
       "      <td>0.002302</td>\n",
       "      <td>0.095798</td>\n",
       "      <td>0.004114</td>\n",
       "      <td>0.006717</td>\n",
       "      <td>0.045593</td>\n",
       "      <td>0.061407</td>\n",
       "      <td>3.641000e-02</td>\n",
       "      <td>0.001512</td>\n",
       "      <td>0.059116</td>\n",
       "      <td>0.024058</td>\n",
       "      <td>0.004114</td>\n",
       "      <td>0.029389</td>\n",
       "      <td>0.060083</td>\n",
       "      <td>0.000558</td>\n",
       "      <td>0.026799</td>\n",
       "      <td>8.496925e-03</td>\n",
       "      <td>0.002291</td>\n",
       "      <td>0.000250</td>\n",
       "      <td>0.027323</td>\n",
       "      <td>0.001640</td>\n",
       "      <td>0.007626</td>\n",
       "      <td>0.002708</td>\n",
       "      <td>0.044984</td>\n",
       "      <td>0.106443</td>\n",
       "      <td>0.000394</td>\n",
       "      <td>0.025649</td>\n",
       "      <td>0.019979</td>\n",
       "      <td>0.006718</td>\n",
       "      <td>0.025237</td>\n",
       "      <td>0.008532</td>\n",
       "      <td>0.010970</td>\n",
       "      <td>0.010674</td>\n",
       "      <td>0.019662</td>\n",
       "      <td>0.007864</td>\n",
       "      <td>0.019365</td>\n",
       "      <td>0.028534</td>\n",
       "      <td>0.020503</td>\n",
       "      <td>0.041992</td>\n",
       "      <td>0.003757</td>\n",
       "      <td>0.003275</td>\n",
       "      <td>0.010391</td>\n",
       "      <td>0.007431</td>\n",
       "      <td>0.021888</td>\n",
       "      <td>7.186248e-03</td>\n",
       "      <td>0.018724</td>\n",
       "      <td>-0.002430</td>\n",
       "      <td>0.019554</td>\n",
       "      <td>0.017884</td>\n",
       "      <td>0.001593</td>\n",
       "      <td>0.001542</td>\n",
       "      <td>0.000282</td>\n",
       "      <td>0.012603</td>\n",
       "      <td>0.048350</td>\n",
       "      <td>0.003189</td>\n",
       "      <td>0.174836</td>\n",
       "      <td>0.036171</td>\n",
       "      <td>0.000395</td>\n",
       "      <td>0.036458</td>\n",
       "      <td>0.009747</td>\n",
       "      <td>-2.759207e-04</td>\n",
       "      <td>0.020012</td>\n",
       "      <td>-0.002992</td>\n",
       "      <td>0.022618</td>\n",
       "      <td>0.005407</td>\n",
       "      <td>1.383531e-02</td>\n",
       "      <td>0.000693</td>\n",
       "      <td>0.067939</td>\n",
       "      <td>1</td>\n",
       "    </tr>\n",
       "    <tr>\n",
       "      <th>2</th>\n",
       "      <td>1</td>\n",
       "      <td>2</td>\n",
       "      <td>0</td>\n",
       "      <td>3</td>\n",
       "      <td>0</td>\n",
       "      <td>-2</td>\n",
       "      <td>4</td>\n",
       "      <td>0</td>\n",
       "      <td>0.000000</td>\n",
       "      <td>0.000000</td>\n",
       "      <td>5</td>\n",
       "      <td>0</td>\n",
       "      <td>0.877725</td>\n",
       "      <td>0.000013</td>\n",
       "      <td>-0.000027</td>\n",
       "      <td>0.000011</td>\n",
       "      <td>0.000405</td>\n",
       "      <td>-0.000029</td>\n",
       "      <td>0.000043</td>\n",
       "      <td>0.000004</td>\n",
       "      <td>0.000022</td>\n",
       "      <td>-6.192968e-08</td>\n",
       "      <td>0.000002</td>\n",
       "      <td>0.000019</td>\n",
       "      <td>0.000135</td>\n",
       "      <td>0.000206</td>\n",
       "      <td>-0.000002</td>\n",
       "      <td>0.000298</td>\n",
       "      <td>4.240570e-07</td>\n",
       "      <td>0.000569</td>\n",
       "      <td>0.000242</td>\n",
       "      <td>-0.000173</td>\n",
       "      <td>0.000006</td>\n",
       "      <td>0.000024</td>\n",
       "      <td>0.000893</td>\n",
       "      <td>0.000020</td>\n",
       "      <td>0.000028</td>\n",
       "      <td>-0.000025</td>\n",
       "      <td>0.000045</td>\n",
       "      <td>0.000131</td>\n",
       "      <td>0.000087</td>\n",
       "      <td>0.000001</td>\n",
       "      <td>0.000051</td>\n",
       "      <td>-0.000078</td>\n",
       "      <td>-0.000015</td>\n",
       "      <td>0.000153</td>\n",
       "      <td>-0.000100</td>\n",
       "      <td>0.000065</td>\n",
       "      <td>0.000487</td>\n",
       "      <td>0.000115</td>\n",
       "      <td>0.000232</td>\n",
       "      <td>0.000149</td>\n",
       "      <td>0.000029</td>\n",
       "      <td>-0.000017</td>\n",
       "      <td>0.000358</td>\n",
       "      <td>0.000005</td>\n",
       "      <td>0.000001</td>\n",
       "      <td>-0.000168</td>\n",
       "      <td>-0.000050</td>\n",
       "      <td>0.000305</td>\n",
       "      <td>0.000063</td>\n",
       "      <td>0.000013</td>\n",
       "      <td>2.125438e-05</td>\n",
       "      <td>-0.000014</td>\n",
       "      <td>-0.000006</td>\n",
       "      <td>-0.000064</td>\n",
       "      <td>0.000041</td>\n",
       "      <td>0.000031</td>\n",
       "      <td>0.000355</td>\n",
       "      <td>-0.000033</td>\n",
       "      <td>-0.000011</td>\n",
       "      <td>-0.000015</td>\n",
       "      <td>-0.000303</td>\n",
       "      <td>0.000381</td>\n",
       "      <td>-0.000009</td>\n",
       "      <td>0.000003</td>\n",
       "      <td>0.000166</td>\n",
       "      <td>0.000057</td>\n",
       "      <td>-0.000064</td>\n",
       "      <td>-0.000064</td>\n",
       "      <td>2.899191e-07</td>\n",
       "      <td>0.000017</td>\n",
       "      <td>0.000414</td>\n",
       "      <td>-0.000017</td>\n",
       "      <td>0.000241</td>\n",
       "      <td>0.001270</td>\n",
       "      <td>-0.000104</td>\n",
       "      <td>0.000002</td>\n",
       "      <td>0.000210</td>\n",
       "      <td>-2.721497e-05</td>\n",
       "      <td>-0.000073</td>\n",
       "      <td>0.000004</td>\n",
       "      <td>0.000084</td>\n",
       "      <td>-0.000181</td>\n",
       "      <td>-0.000072</td>\n",
       "      <td>-0.000016</td>\n",
       "      <td>-0.000058</td>\n",
       "      <td>0.000070</td>\n",
       "      <td>-0.000003</td>\n",
       "      <td>0.000683</td>\n",
       "      <td>-0.000047</td>\n",
       "      <td>0.000076</td>\n",
       "      <td>0.000212</td>\n",
       "      <td>0.000021</td>\n",
       "      <td>0.000524</td>\n",
       "      <td>-0.000001</td>\n",
       "      <td>0.000436</td>\n",
       "      <td>-0.000157</td>\n",
       "      <td>-0.000165</td>\n",
       "      <td>0.000036</td>\n",
       "      <td>-0.000003</td>\n",
       "      <td>0.000351</td>\n",
       "      <td>-0.000006</td>\n",
       "      <td>-0.000153</td>\n",
       "      <td>-0.000020</td>\n",
       "      <td>0.000351</td>\n",
       "      <td>-0.000003</td>\n",
       "      <td>-4.733297e-05</td>\n",
       "      <td>0.000083</td>\n",
       "      <td>-0.000059</td>\n",
       "      <td>0.000042</td>\n",
       "      <td>0.000002</td>\n",
       "      <td>0.000021</td>\n",
       "      <td>0.000006</td>\n",
       "      <td>0.000029</td>\n",
       "      <td>-0.000235</td>\n",
       "      <td>0.000068</td>\n",
       "      <td>-0.000019</td>\n",
       "      <td>-0.000058</td>\n",
       "      <td>0.000002</td>\n",
       "      <td>0.000112</td>\n",
       "      <td>-0.000107</td>\n",
       "      <td>0.000004</td>\n",
       "      <td>-1.718414e-05</td>\n",
       "      <td>0.000003</td>\n",
       "      <td>0.000422</td>\n",
       "      <td>0.000080</td>\n",
       "      <td>0.000102</td>\n",
       "      <td>-8.183345e-06</td>\n",
       "      <td>0.000391</td>\n",
       "      <td>0.000612</td>\n",
       "      <td>0</td>\n",
       "    </tr>\n",
       "    <tr>\n",
       "      <th>3</th>\n",
       "      <td>4</td>\n",
       "      <td>2</td>\n",
       "      <td>16</td>\n",
       "      <td>12</td>\n",
       "      <td>0</td>\n",
       "      <td>-4</td>\n",
       "      <td>6</td>\n",
       "      <td>0</td>\n",
       "      <td>0.000000</td>\n",
       "      <td>0.000000</td>\n",
       "      <td>280</td>\n",
       "      <td>0</td>\n",
       "      <td>0.879783</td>\n",
       "      <td>0.014054</td>\n",
       "      <td>0.003098</td>\n",
       "      <td>0.000073</td>\n",
       "      <td>0.010046</td>\n",
       "      <td>0.001085</td>\n",
       "      <td>-0.000076</td>\n",
       "      <td>0.004628</td>\n",
       "      <td>0.001957</td>\n",
       "      <td>2.119637e-04</td>\n",
       "      <td>0.000323</td>\n",
       "      <td>-0.000200</td>\n",
       "      <td>-0.000107</td>\n",
       "      <td>0.008225</td>\n",
       "      <td>0.000725</td>\n",
       "      <td>0.001116</td>\n",
       "      <td>3.246911e-03</td>\n",
       "      <td>0.000691</td>\n",
       "      <td>0.006976</td>\n",
       "      <td>0.001837</td>\n",
       "      <td>-0.000329</td>\n",
       "      <td>0.000539</td>\n",
       "      <td>0.002002</td>\n",
       "      <td>0.002390</td>\n",
       "      <td>-0.000002</td>\n",
       "      <td>0.000141</td>\n",
       "      <td>0.000051</td>\n",
       "      <td>-0.000294</td>\n",
       "      <td>0.001427</td>\n",
       "      <td>0.000757</td>\n",
       "      <td>0.012217</td>\n",
       "      <td>0.000524</td>\n",
       "      <td>0.005000</td>\n",
       "      <td>-0.000230</td>\n",
       "      <td>0.003570</td>\n",
       "      <td>0.000979</td>\n",
       "      <td>0.006869</td>\n",
       "      <td>0.002421</td>\n",
       "      <td>-0.000156</td>\n",
       "      <td>0.008894</td>\n",
       "      <td>0.001075</td>\n",
       "      <td>0.000061</td>\n",
       "      <td>0.002969</td>\n",
       "      <td>0.002843</td>\n",
       "      <td>0.001542</td>\n",
       "      <td>0.001378</td>\n",
       "      <td>0.003581</td>\n",
       "      <td>0.001499</td>\n",
       "      <td>0.000620</td>\n",
       "      <td>-0.000057</td>\n",
       "      <td>-5.788020e-07</td>\n",
       "      <td>0.001670</td>\n",
       "      <td>0.001619</td>\n",
       "      <td>0.003595</td>\n",
       "      <td>0.001207</td>\n",
       "      <td>0.000085</td>\n",
       "      <td>0.001313</td>\n",
       "      <td>0.000049</td>\n",
       "      <td>0.002021</td>\n",
       "      <td>0.004743</td>\n",
       "      <td>0.000711</td>\n",
       "      <td>0.010932</td>\n",
       "      <td>0.000194</td>\n",
       "      <td>0.012072</td>\n",
       "      <td>-0.000091</td>\n",
       "      <td>0.000389</td>\n",
       "      <td>0.000885</td>\n",
       "      <td>0.002043</td>\n",
       "      <td>2.172159e-03</td>\n",
       "      <td>-0.000013</td>\n",
       "      <td>0.005111</td>\n",
       "      <td>0.001297</td>\n",
       "      <td>0.000003</td>\n",
       "      <td>0.006868</td>\n",
       "      <td>0.007009</td>\n",
       "      <td>0.000785</td>\n",
       "      <td>0.004941</td>\n",
       "      <td>8.062960e-07</td>\n",
       "      <td>0.000134</td>\n",
       "      <td>0.000053</td>\n",
       "      <td>0.000385</td>\n",
       "      <td>-0.000016</td>\n",
       "      <td>-0.000038</td>\n",
       "      <td>0.003038</td>\n",
       "      <td>0.003636</td>\n",
       "      <td>0.009585</td>\n",
       "      <td>0.000395</td>\n",
       "      <td>0.002335</td>\n",
       "      <td>0.007610</td>\n",
       "      <td>0.000521</td>\n",
       "      <td>0.000371</td>\n",
       "      <td>0.000405</td>\n",
       "      <td>0.005273</td>\n",
       "      <td>0.000062</td>\n",
       "      <td>0.000020</td>\n",
       "      <td>0.000389</td>\n",
       "      <td>0.000123</td>\n",
       "      <td>0.000054</td>\n",
       "      <td>0.008946</td>\n",
       "      <td>0.018382</td>\n",
       "      <td>0.001181</td>\n",
       "      <td>-0.000153</td>\n",
       "      <td>0.000007</td>\n",
       "      <td>-0.000037</td>\n",
       "      <td>0.004846</td>\n",
       "      <td>8.076983e-07</td>\n",
       "      <td>0.003720</td>\n",
       "      <td>0.000115</td>\n",
       "      <td>0.000101</td>\n",
       "      <td>0.000414</td>\n",
       "      <td>0.000032</td>\n",
       "      <td>-0.000042</td>\n",
       "      <td>-0.000003</td>\n",
       "      <td>0.000967</td>\n",
       "      <td>0.003987</td>\n",
       "      <td>0.002552</td>\n",
       "      <td>0.015432</td>\n",
       "      <td>0.001204</td>\n",
       "      <td>0.001127</td>\n",
       "      <td>0.002007</td>\n",
       "      <td>0.000433</td>\n",
       "      <td>-3.524962e-05</td>\n",
       "      <td>0.000032</td>\n",
       "      <td>0.004378</td>\n",
       "      <td>0.000748</td>\n",
       "      <td>0.000742</td>\n",
       "      <td>6.407609e-04</td>\n",
       "      <td>0.000203</td>\n",
       "      <td>0.015800</td>\n",
       "      <td>0</td>\n",
       "    </tr>\n",
       "    <tr>\n",
       "      <th>4</th>\n",
       "      <td>7</td>\n",
       "      <td>2</td>\n",
       "      <td>0</td>\n",
       "      <td>22</td>\n",
       "      <td>0</td>\n",
       "      <td>-5</td>\n",
       "      <td>5</td>\n",
       "      <td>0</td>\n",
       "      <td>0.000000</td>\n",
       "      <td>0.000000</td>\n",
       "      <td>168</td>\n",
       "      <td>0</td>\n",
       "      <td>0.867293</td>\n",
       "      <td>0.093691</td>\n",
       "      <td>0.009185</td>\n",
       "      <td>-0.003602</td>\n",
       "      <td>0.065103</td>\n",
       "      <td>0.001643</td>\n",
       "      <td>-0.001295</td>\n",
       "      <td>0.017832</td>\n",
       "      <td>0.003726</td>\n",
       "      <td>7.413848e-04</td>\n",
       "      <td>0.008477</td>\n",
       "      <td>0.017117</td>\n",
       "      <td>0.001971</td>\n",
       "      <td>0.007056</td>\n",
       "      <td>0.000137</td>\n",
       "      <td>0.008885</td>\n",
       "      <td>4.601420e-04</td>\n",
       "      <td>0.029260</td>\n",
       "      <td>0.030279</td>\n",
       "      <td>0.026353</td>\n",
       "      <td>0.002655</td>\n",
       "      <td>-0.000106</td>\n",
       "      <td>0.070054</td>\n",
       "      <td>0.001016</td>\n",
       "      <td>0.010414</td>\n",
       "      <td>0.000194</td>\n",
       "      <td>-0.005761</td>\n",
       "      <td>-0.000546</td>\n",
       "      <td>0.004408</td>\n",
       "      <td>-0.001850</td>\n",
       "      <td>0.104011</td>\n",
       "      <td>-0.005871</td>\n",
       "      <td>0.012728</td>\n",
       "      <td>0.001945</td>\n",
       "      <td>0.020263</td>\n",
       "      <td>-0.000192</td>\n",
       "      <td>0.027477</td>\n",
       "      <td>0.012924</td>\n",
       "      <td>0.017392</td>\n",
       "      <td>0.028633</td>\n",
       "      <td>0.008057</td>\n",
       "      <td>-0.003636</td>\n",
       "      <td>0.017838</td>\n",
       "      <td>-0.004372</td>\n",
       "      <td>-0.002243</td>\n",
       "      <td>0.008336</td>\n",
       "      <td>0.006933</td>\n",
       "      <td>0.002636</td>\n",
       "      <td>0.000810</td>\n",
       "      <td>-0.000008</td>\n",
       "      <td>-3.573135e-04</td>\n",
       "      <td>-0.002556</td>\n",
       "      <td>-0.007205</td>\n",
       "      <td>0.007523</td>\n",
       "      <td>0.000147</td>\n",
       "      <td>0.000081</td>\n",
       "      <td>0.018538</td>\n",
       "      <td>0.000723</td>\n",
       "      <td>0.022655</td>\n",
       "      <td>0.014882</td>\n",
       "      <td>0.013870</td>\n",
       "      <td>0.047959</td>\n",
       "      <td>-0.000182</td>\n",
       "      <td>-0.017720</td>\n",
       "      <td>0.002794</td>\n",
       "      <td>-0.005898</td>\n",
       "      <td>-0.005054</td>\n",
       "      <td>0.004799</td>\n",
       "      <td>4.438680e-03</td>\n",
       "      <td>-0.001133</td>\n",
       "      <td>0.049572</td>\n",
       "      <td>0.003903</td>\n",
       "      <td>0.004652</td>\n",
       "      <td>0.080927</td>\n",
       "      <td>-0.002528</td>\n",
       "      <td>0.007795</td>\n",
       "      <td>0.036761</td>\n",
       "      <td>-3.785353e-03</td>\n",
       "      <td>-0.000824</td>\n",
       "      <td>0.000291</td>\n",
       "      <td>-0.000473</td>\n",
       "      <td>0.005611</td>\n",
       "      <td>0.008121</td>\n",
       "      <td>0.000068</td>\n",
       "      <td>0.007100</td>\n",
       "      <td>0.013329</td>\n",
       "      <td>0.002401</td>\n",
       "      <td>0.047012</td>\n",
       "      <td>0.007536</td>\n",
       "      <td>0.004586</td>\n",
       "      <td>0.016528</td>\n",
       "      <td>-0.001273</td>\n",
       "      <td>0.054956</td>\n",
       "      <td>0.000077</td>\n",
       "      <td>-0.005336</td>\n",
       "      <td>0.005482</td>\n",
       "      <td>0.015874</td>\n",
       "      <td>-0.007837</td>\n",
       "      <td>0.004038</td>\n",
       "      <td>0.041646</td>\n",
       "      <td>0.013144</td>\n",
       "      <td>0.010188</td>\n",
       "      <td>-0.000870</td>\n",
       "      <td>0.023891</td>\n",
       "      <td>0.012123</td>\n",
       "      <td>3.281416e-03</td>\n",
       "      <td>0.027422</td>\n",
       "      <td>0.001005</td>\n",
       "      <td>0.006887</td>\n",
       "      <td>0.000297</td>\n",
       "      <td>0.001981</td>\n",
       "      <td>-0.000317</td>\n",
       "      <td>-0.000297</td>\n",
       "      <td>0.012318</td>\n",
       "      <td>0.012286</td>\n",
       "      <td>0.000815</td>\n",
       "      <td>0.059960</td>\n",
       "      <td>-0.003851</td>\n",
       "      <td>0.025839</td>\n",
       "      <td>-0.009964</td>\n",
       "      <td>-0.000852</td>\n",
       "      <td>3.025043e-04</td>\n",
       "      <td>-0.001324</td>\n",
       "      <td>0.020399</td>\n",
       "      <td>-0.007542</td>\n",
       "      <td>0.006621</td>\n",
       "      <td>-3.753545e-03</td>\n",
       "      <td>0.030252</td>\n",
       "      <td>0.071255</td>\n",
       "      <td>0</td>\n",
       "    </tr>\n",
       "  </tbody>\n",
       "</table>\n",
       "</div>"
      ],
      "text/plain": [
       "   in_degree_source  in_degree_target  out_degree_source  out_degree_target  \\\n",
       "0                 3                 8                  3                  4   \n",
       "1                11               124                 68                 23   \n",
       "2                 1                 2                  0                  3   \n",
       "3                 4                 2                 16                 12   \n",
       "4                 7                 2                  0                 22   \n",
       "\n",
       "   title_overlap  temp_diff  abstract_overlap  is_same_journal  \\\n",
       "0              2          0                 6                1   \n",
       "1              0          1                 6                0   \n",
       "2              0         -2                 4                0   \n",
       "3              0         -4                 6                0   \n",
       "4              0         -5                 5                0   \n",
       "\n",
       "   jaccard_coefficient  adamic_adar  pref_attachment  common_neighbors  \\\n",
       "0             0.062500     0.513898               72                 1   \n",
       "1             0.069565     4.320366            11613                 8   \n",
       "2             0.000000     0.000000                5                 0   \n",
       "3             0.000000     0.000000              280                 0   \n",
       "4             0.000000     0.000000              168                 0   \n",
       "\n",
       "   abstract_cosine_similarity      emb1      emb2      emb3      emb4  \\\n",
       "0                    0.819155  0.014731  0.000464  0.001126  0.006963   \n",
       "1                    0.761980  0.123033  0.007381  0.020730  0.023512   \n",
       "2                    0.877725  0.000013 -0.000027  0.000011  0.000405   \n",
       "3                    0.879783  0.014054  0.003098  0.000073  0.010046   \n",
       "4                    0.867293  0.093691  0.009185 -0.003602  0.065103   \n",
       "\n",
       "       emb5      emb6      emb7      emb8          emb9     emb10     emb11  \\\n",
       "0 -0.000007 -0.000003  0.001664  0.001189  5.352388e-04  0.001202  0.003600   \n",
       "1  0.000234  0.009455  0.019526 -0.004014 -6.028826e-04  0.001052  0.004027   \n",
       "2 -0.000029  0.000043  0.000004  0.000022 -6.192968e-08  0.000002  0.000019   \n",
       "3  0.001085 -0.000076  0.004628  0.001957  2.119637e-04  0.000323 -0.000200   \n",
       "4  0.001643 -0.001295  0.017832  0.003726  7.413848e-04  0.008477  0.017117   \n",
       "\n",
       "      emb12     emb13     emb14     emb15         emb16     emb17     emb18  \\\n",
       "0  0.001908  0.002489  0.000068  0.002816  1.830387e-04  0.004138  0.005182   \n",
       "1  0.000473  0.021602  0.002667 -0.001530  1.957685e-02  0.003978  0.034494   \n",
       "2  0.000135  0.000206 -0.000002  0.000298  4.240570e-07  0.000569  0.000242   \n",
       "3 -0.000107  0.008225  0.000725  0.001116  3.246911e-03  0.000691  0.006976   \n",
       "4  0.001971  0.007056  0.000137  0.008885  4.601420e-04  0.029260  0.030279   \n",
       "\n",
       "      emb19     emb20     emb21     emb22     emb23     emb24     emb25  \\\n",
       "0  0.004700  0.001164  0.000011  0.013604  0.000652  0.001165  0.001034   \n",
       "1  0.029158  0.000161  0.009475  0.027425 -0.001157  0.000342  0.003899   \n",
       "2 -0.000173  0.000006  0.000024  0.000893  0.000020  0.000028 -0.000025   \n",
       "3  0.001837 -0.000329  0.000539  0.002002  0.002390 -0.000002  0.000141   \n",
       "4  0.026353  0.002655 -0.000106  0.070054  0.001016  0.010414  0.000194   \n",
       "\n",
       "      emb26     emb27     emb28     emb29     emb30     emb31     emb32  \\\n",
       "0  0.000507  0.000970  0.004729  0.000006  0.014427  0.001276  0.003345   \n",
       "1  0.012318  0.002769  0.034871  0.016022  0.014213  0.015737  0.033106   \n",
       "2  0.000045  0.000131  0.000087  0.000001  0.000051 -0.000078 -0.000015   \n",
       "3  0.000051 -0.000294  0.001427  0.000757  0.012217  0.000524  0.005000   \n",
       "4 -0.005761 -0.000546  0.004408 -0.001850  0.104011 -0.005871  0.012728   \n",
       "\n",
       "      emb33     emb34     emb35     emb36     emb37     emb38     emb39  \\\n",
       "0  0.001294  0.001742  0.000058  0.004332  0.003503  0.003274  0.003499   \n",
       "1  0.002641  0.033401  0.001663  0.026819  0.028680  0.007182  0.072009   \n",
       "2  0.000153 -0.000100  0.000065  0.000487  0.000115  0.000232  0.000149   \n",
       "3 -0.000230  0.003570  0.000979  0.006869  0.002421 -0.000156  0.008894   \n",
       "4  0.001945  0.020263 -0.000192  0.027477  0.012924  0.017392  0.028633   \n",
       "\n",
       "      emb40     emb41     emb42     emb43     emb44     emb45     emb46  \\\n",
       "0  0.001227  0.000033  0.006026  0.000693  0.000048  0.001444  0.000606   \n",
       "1 -0.002329  0.007942 -0.001540  0.043186  0.020565  0.020066  0.044115   \n",
       "2  0.000029 -0.000017  0.000358  0.000005  0.000001 -0.000168 -0.000050   \n",
       "3  0.001075  0.000061  0.002969  0.002843  0.001542  0.001378  0.003581   \n",
       "4  0.008057 -0.003636  0.017838 -0.004372 -0.002243  0.008336  0.006933   \n",
       "\n",
       "      emb47     emb48     emb49         emb50     emb51     emb52     emb53  \\\n",
       "0  0.002730  0.000328  0.000079  5.923105e-04  0.000210 -0.000035  0.000550   \n",
       "1  0.023695  0.005646  0.001308  7.623107e-03  0.014223  0.042206  0.037443   \n",
       "2  0.000305  0.000063  0.000013  2.125438e-05 -0.000014 -0.000006 -0.000064   \n",
       "3  0.001499  0.000620 -0.000057 -5.788020e-07  0.001670  0.001619  0.003595   \n",
       "4  0.002636  0.000810 -0.000008 -3.573135e-04 -0.002556 -0.007205  0.007523   \n",
       "\n",
       "      emb54     emb55     emb56     emb57     emb58     emb59     emb60  \\\n",
       "0  0.001777  0.001086  0.002278  0.000407  0.006299  0.002975  0.001543   \n",
       "1  0.051150  0.000084  0.000226  0.005331  0.008431  0.053607  0.003158   \n",
       "2  0.000041  0.000031  0.000355 -0.000033 -0.000011 -0.000015 -0.000303   \n",
       "3  0.001207  0.000085  0.001313  0.000049  0.002021  0.004743  0.000711   \n",
       "4  0.000147  0.000081  0.018538  0.000723  0.022655  0.014882  0.013870   \n",
       "\n",
       "      emb61     emb62     emb63     emb64     emb65     emb66     emb67  \\\n",
       "0  0.008894  0.000045  0.000500  0.000825  0.000451  0.000677  0.003411   \n",
       "1  0.037578  0.002302  0.095798  0.004114  0.006717  0.045593  0.061407   \n",
       "2  0.000381 -0.000009  0.000003  0.000166  0.000057 -0.000064 -0.000064   \n",
       "3  0.010932  0.000194  0.012072 -0.000091  0.000389  0.000885  0.002043   \n",
       "4  0.047959 -0.000182 -0.017720  0.002794 -0.005898 -0.005054  0.004799   \n",
       "\n",
       "          emb68     emb69     emb70     emb71     emb72     emb73     emb74  \\\n",
       "0  7.004193e-04  0.000093  0.010883  0.000975  0.000548  0.014016  0.001179   \n",
       "1  3.641000e-02  0.001512  0.059116  0.024058  0.004114  0.029389  0.060083   \n",
       "2  2.899191e-07  0.000017  0.000414 -0.000017  0.000241  0.001270 -0.000104   \n",
       "3  2.172159e-03 -0.000013  0.005111  0.001297  0.000003  0.006868  0.007009   \n",
       "4  4.438680e-03 -0.001133  0.049572  0.003903  0.004652  0.080927 -0.002528   \n",
       "\n",
       "      emb75     emb76         emb77     emb78     emb79     emb80     emb81  \\\n",
       "0  0.001621  0.005963 -3.068602e-06  0.000104  0.000155  0.001787  0.001740   \n",
       "1  0.000558  0.026799  8.496925e-03  0.002291  0.000250  0.027323  0.001640   \n",
       "2  0.000002  0.000210 -2.721497e-05 -0.000073  0.000004  0.000084 -0.000181   \n",
       "3  0.000785  0.004941  8.062960e-07  0.000134  0.000053  0.000385 -0.000016   \n",
       "4  0.007795  0.036761 -3.785353e-03 -0.000824  0.000291 -0.000473  0.005611   \n",
       "\n",
       "      emb82     emb83     emb84     emb85     emb86     emb87     emb88  \\\n",
       "0  0.001554  0.000305  0.000535  0.002769  0.000003  0.010570  0.001702   \n",
       "1  0.007626  0.002708  0.044984  0.106443  0.000394  0.025649  0.019979   \n",
       "2 -0.000072 -0.000016 -0.000058  0.000070 -0.000003  0.000683 -0.000047   \n",
       "3 -0.000038  0.003038  0.003636  0.009585  0.000395  0.002335  0.007610   \n",
       "4  0.008121  0.000068  0.007100  0.013329  0.002401  0.047012  0.007536   \n",
       "\n",
       "      emb89     emb90     emb91     emb92     emb93     emb94     emb95  \\\n",
       "0  0.000733  0.003305  0.000006  0.008535  0.000389  0.002724  0.001640   \n",
       "1  0.006718  0.025237  0.008532  0.010970  0.010674  0.019662  0.007864   \n",
       "2  0.000076  0.000212  0.000021  0.000524 -0.000001  0.000436 -0.000157   \n",
       "3  0.000521  0.000371  0.000405  0.005273  0.000062  0.000020  0.000389   \n",
       "4  0.004586  0.016528 -0.001273  0.054956  0.000077 -0.005336  0.005482   \n",
       "\n",
       "      emb96     emb97     emb98     emb99    emb100    emb101    emb102  \\\n",
       "0  0.001407  0.000012  0.001414  0.006466  0.004306  0.002465  0.000341   \n",
       "1  0.019365  0.028534  0.020503  0.041992  0.003757  0.003275  0.010391   \n",
       "2 -0.000165  0.000036 -0.000003  0.000351 -0.000006 -0.000153 -0.000020   \n",
       "3  0.000123  0.000054  0.008946  0.018382  0.001181 -0.000153  0.000007   \n",
       "4  0.015874 -0.007837  0.004038  0.041646  0.013144  0.010188 -0.000870   \n",
       "\n",
       "     emb103    emb104        emb105    emb106    emb107    emb108    emb109  \\\n",
       "0  0.003546  0.000154  1.694162e-04  0.002555  0.000421  0.000222  0.000870   \n",
       "1  0.007431  0.021888  7.186248e-03  0.018724 -0.002430  0.019554  0.017884   \n",
       "2  0.000351 -0.000003 -4.733297e-05  0.000083 -0.000059  0.000042  0.000002   \n",
       "3 -0.000037  0.004846  8.076983e-07  0.003720  0.000115  0.000101  0.000414   \n",
       "4  0.023891  0.012123  3.281416e-03  0.027422  0.001005  0.006887  0.000297   \n",
       "\n",
       "     emb110    emb111    emb112    emb113    emb114    emb115    emb116  \\\n",
       "0  0.000006  0.000186  0.000324  0.001615  0.003179 -0.000002  0.008223   \n",
       "1  0.001593  0.001542  0.000282  0.012603  0.048350  0.003189  0.174836   \n",
       "2  0.000021  0.000006  0.000029 -0.000235  0.000068 -0.000019 -0.000058   \n",
       "3  0.000032 -0.000042 -0.000003  0.000967  0.003987  0.002552  0.015432   \n",
       "4  0.001981 -0.000317 -0.000297  0.012318  0.012286  0.000815  0.059960   \n",
       "\n",
       "     emb117    emb118    emb119    emb120        emb121    emb122    emb123  \\\n",
       "0  0.000525  0.003989  0.000791  0.000270  7.196812e-08  0.000015  0.004535   \n",
       "1  0.036171  0.000395  0.036458  0.009747 -2.759207e-04  0.020012 -0.002992   \n",
       "2  0.000002  0.000112 -0.000107  0.000004 -1.718414e-05  0.000003  0.000422   \n",
       "3  0.001204  0.001127  0.002007  0.000433 -3.524962e-05  0.000032  0.004378   \n",
       "4 -0.003851  0.025839 -0.009964 -0.000852  3.025043e-04 -0.001324  0.020399   \n",
       "\n",
       "     emb124    emb125        emb126    emb127    emb128  label  \n",
       "0  0.000520  0.000669 -9.162506e-07  0.005291  0.009761      1  \n",
       "1  0.022618  0.005407  1.383531e-02  0.000693  0.067939      1  \n",
       "2  0.000080  0.000102 -8.183345e-06  0.000391  0.000612      0  \n",
       "3  0.000748  0.000742  6.407609e-04  0.000203  0.015800      0  \n",
       "4 -0.007542  0.006621 -3.753545e-03  0.030252  0.071255      0  "
      ]
     },
     "execution_count": 7,
     "metadata": {},
     "output_type": "execute_result"
    }
   ],
   "source": [
    "df.head()"
   ]
  },
  {
   "cell_type": "code",
   "execution_count": 8,
   "metadata": {},
   "outputs": [
    {
     "data": {
      "text/plain": [
       "(615512, 142)"
      ]
     },
     "execution_count": 8,
     "metadata": {},
     "output_type": "execute_result"
    }
   ],
   "source": [
    "df.shape"
   ]
  },
  {
   "cell_type": "markdown",
   "metadata": {},
   "source": [
    "## node2vec "
   ]
  },
  {
   "cell_type": "code",
   "execution_count": 41,
   "metadata": {},
   "outputs": [],
   "source": [
    "# Embeddings columns\n",
    "node2vec_features = [col for col in df.columns if \"emb\" in col]"
   ]
  },
  {
   "cell_type": "code",
   "execution_count": 42,
   "metadata": {},
   "outputs": [
    {
     "name": "stdout",
     "output_type": "stream",
     "text": [
      "128 features are used\n"
     ]
    }
   ],
   "source": [
    "X = df[node2vec_features]\n",
    "y = df.label\n",
    "print(\"{} features are used\".format(X.shape[1]))"
   ]
  },
  {
   "cell_type": "code",
   "execution_count": 43,
   "metadata": {},
   "outputs": [
    {
     "name": "stderr",
     "output_type": "stream",
     "text": [
      "[Parallel(n_jobs=-1)]: Done  10 out of  10 | elapsed:  1.1min finished\n",
      "[Parallel(n_jobs=4)]: Done  10 out of  10 | elapsed:    0.4s finished\n",
      "[Parallel(n_jobs=-1)]: Done  10 out of  10 | elapsed:  1.1min finished\n",
      "[Parallel(n_jobs=4)]: Done  10 out of  10 | elapsed:    0.3s finished\n",
      "[Parallel(n_jobs=-1)]: Done  10 out of  10 | elapsed:   59.8s finished\n",
      "[Parallel(n_jobs=4)]: Done  10 out of  10 | elapsed:    0.3s finished\n",
      "[Parallel(n_jobs=-1)]: Done  10 out of  10 | elapsed:  1.0min finished\n",
      "[Parallel(n_jobs=4)]: Done  10 out of  10 | elapsed:    0.3s finished\n",
      "[Parallel(n_jobs=-1)]: Done  10 out of  10 | elapsed:  1.1min finished\n",
      "[Parallel(n_jobs=4)]: Done  10 out of  10 | elapsed:    0.3s finished\n"
     ]
    },
    {
     "name": "stdout",
     "output_type": "stream",
     "text": [
      "Mean of cross-validation F1: 0.832\n"
     ]
    }
   ],
   "source": [
    "# Initialize Random Forest classifier\n",
    "clf = RandomForestClassifier(n_estimators=10, n_jobs=-1, verbose=1)\n",
    "\n",
    "# Set a 5-fold cross validation\n",
    "cv = StratifiedKFold(n_splits=5, shuffle=True)\n",
    "    \n",
    "# Get average cross-validation on 5 folds\n",
    "print(\"Mean of cross-validation F1: {:.3f}\"\\\n",
    "    .format(cross_val_score(clf, X, y, cv=cv, scoring='f1')\\\n",
    "    .mean()))"
   ]
  },
  {
   "cell_type": "markdown",
   "metadata": {},
   "source": [
    "## Set of features $F$"
   ]
  },
  {
   "cell_type": "code",
   "execution_count": 119,
   "metadata": {},
   "outputs": [],
   "source": [
    "F_features = [\"in_degree_source\", \"in_degree_target\", \"out_degree_source\", \n",
    "              \"out_degree_target\", \"title_overlap\", \"temp_diff\", \"abstract_overlap\", \n",
    "              \"is_same_journal\", \"jaccard_coefficient\", \"adamic_adar\", \"pref_attachment\", \n",
    "              \"common_neighbors\", \"abstract_cosine_similarity\"]"
   ]
  },
  {
   "cell_type": "code",
   "execution_count": 120,
   "metadata": {},
   "outputs": [
    {
     "name": "stdout",
     "output_type": "stream",
     "text": [
      "13 features are used\n"
     ]
    }
   ],
   "source": [
    "X = df[F_features]\n",
    "y = df.label\n",
    "print(\"{} features are used\".format(X.shape[1]))"
   ]
  },
  {
   "cell_type": "code",
   "execution_count": 46,
   "metadata": {},
   "outputs": [
    {
     "name": "stderr",
     "output_type": "stream",
     "text": [
      "[Parallel(n_jobs=-1)]: Done  10 out of  10 | elapsed:    8.1s finished\n",
      "[Parallel(n_jobs=4)]: Done  10 out of  10 | elapsed:    0.1s finished\n",
      "[Parallel(n_jobs=-1)]: Done  10 out of  10 | elapsed:    8.7s finished\n",
      "[Parallel(n_jobs=4)]: Done  10 out of  10 | elapsed:    0.0s finished\n",
      "[Parallel(n_jobs=-1)]: Done  10 out of  10 | elapsed:    8.3s finished\n",
      "[Parallel(n_jobs=4)]: Done  10 out of  10 | elapsed:    0.0s finished\n",
      "[Parallel(n_jobs=-1)]: Done  10 out of  10 | elapsed:    8.3s finished\n",
      "[Parallel(n_jobs=4)]: Done  10 out of  10 | elapsed:    0.1s finished\n",
      "[Parallel(n_jobs=-1)]: Done  10 out of  10 | elapsed:    8.0s finished\n",
      "[Parallel(n_jobs=4)]: Done  10 out of  10 | elapsed:    0.1s finished\n"
     ]
    },
    {
     "name": "stdout",
     "output_type": "stream",
     "text": [
      "Mean of cross-validation F1: 0.971\n"
     ]
    }
   ],
   "source": [
    "# Initialize Random Forest classifier\n",
    "clf = RandomForestClassifier(n_estimators=10, n_jobs=-1, verbose=1)\n",
    "\n",
    "# Set a 5-fold cross validation\n",
    "cv = StratifiedKFold(n_splits=5, shuffle=True)\n",
    "    \n",
    "# Get average cross-validation on 5 folds\n",
    "print(\"Mean of cross-validation F1: {:.3f}\"\\\n",
    "    .format(cross_val_score(clf, X, y, cv=cv, scoring='f1')\\\n",
    "    .mean()))"
   ]
  },
  {
   "cell_type": "code",
   "execution_count": 121,
   "metadata": {},
   "outputs": [
    {
     "name": "stdout",
     "output_type": "stream",
     "text": [
      "Training ...\n"
     ]
    },
    {
     "name": "stderr",
     "output_type": "stream",
     "text": [
      "[Parallel(n_jobs=-1)]: Done  10 out of  10 | elapsed:    9.8s finished\n"
     ]
    },
    {
     "name": "stdout",
     "output_type": "stream",
     "text": [
      "Feature ranking:\n",
      "1. feature adamic_adar (0.385508)\n",
      "2. feature common_neighbors (0.109787)\n",
      "3. feature pref_attachment (0.105008)\n",
      "4. feature abstract_overlap (0.091937)\n",
      "5. feature jaccard_coefficient (0.084497)\n",
      "6. feature temp_diff (0.070305)\n",
      "7. feature in_degree_target (0.059783)\n",
      "8. feature abstract_cosine_similarity (0.028205)\n",
      "9. feature title_overlap (0.018390)\n",
      "10. feature out_degree_target (0.016828)\n",
      "11. feature out_degree_source (0.016638)\n",
      "12. feature in_degree_source (0.011752)\n",
      "13. feature is_same_journal (0.001363)\n"
     ]
    },
    {
     "data": {
      "image/png": "[encoded data removed]",
      "text/plain": [
       "<matplotlib.figure.Figure at 0x25d67d07ac8>"
      ]
     },
     "metadata": {},
     "output_type": "display_data"
    }
   ],
   "source": [
    "# Plot the importances of the features used\n",
    "top_features = random_forest_features_importances(X, y, n_estimators=10)"
   ]
  },
  {
   "cell_type": "markdown",
   "metadata": {},
   "source": [
    "## Combination of node2vec and features $F$"
   ]
  },
  {
   "cell_type": "code",
   "execution_count": 49,
   "metadata": {},
   "outputs": [
    {
     "name": "stdout",
     "output_type": "stream",
     "text": [
      "141 features are used\n"
     ]
    }
   ],
   "source": [
    "X = df[F_features + node2vec_features]\n",
    "y = df.label\n",
    "print(\"{} features are used\".format(X.shape[1]))"
   ]
  },
  {
   "cell_type": "code",
   "execution_count": 50,
   "metadata": {},
   "outputs": [
    {
     "name": "stderr",
     "output_type": "stream",
     "text": [
      "[Parallel(n_jobs=-1)]: Done  10 out of  10 | elapsed:   50.3s finished\n",
      "[Parallel(n_jobs=4)]: Done  10 out of  10 | elapsed:    0.1s finished\n",
      "[Parallel(n_jobs=-1)]: Done  10 out of  10 | elapsed:   55.0s finished\n",
      "[Parallel(n_jobs=4)]: Done  10 out of  10 | elapsed:    0.1s finished\n",
      "[Parallel(n_jobs=-1)]: Done  10 out of  10 | elapsed:   54.6s finished\n",
      "[Parallel(n_jobs=4)]: Done  10 out of  10 | elapsed:    0.2s finished\n",
      "[Parallel(n_jobs=-1)]: Done  10 out of  10 | elapsed:   60.0s finished\n",
      "[Parallel(n_jobs=4)]: Done  10 out of  10 | elapsed:    0.2s finished\n",
      "[Parallel(n_jobs=-1)]: Done  10 out of  10 | elapsed:   59.2s finished\n",
      "[Parallel(n_jobs=4)]: Done  10 out of  10 | elapsed:    0.1s finished\n"
     ]
    },
    {
     "name": "stdout",
     "output_type": "stream",
     "text": [
      "Mean of cross-validation F1: 0.970\n"
     ]
    }
   ],
   "source": [
    "# Initialize Random Forest classifier\n",
    "clf = RandomForestClassifier(n_estimators=10, n_jobs=-1, verbose=1)\n",
    "\n",
    "# Set a 5-fold cross validation\n",
    "cv = StratifiedKFold(n_splits=5, shuffle=True)\n",
    "    \n",
    "# Get average cross-validation on 5 folds\n",
    "print(\"Mean of cross-validation F1: {:.3f}\"\\\n",
    "    .format(cross_val_score(clf, X, y, cv=cv, scoring='f1')\\\n",
    "    .mean()))"
   ]
  },
  {
   "cell_type": "markdown",
   "metadata": {},
   "source": [
    "| Features used            | Mean cross-validated f1-score |\n",
    "|--------------------------|-------------------------------|\n",
    "| node2vec 128 embeddings  | 0.832                         |\n",
    "| $F$ features             | 0.971                         |\n",
    "|  node2vec + $F$          | 0.970                         |"
   ]
  },
  {
   "cell_type": "markdown",
   "metadata": {},
   "source": [
    "> To summarize, the use of the set of features $F$ gives the best results. Using node2vec features and the set $F$ gives similar results but the number of features is more than 10 times higher. Thus, we will use the set of features $F$ to compare different algorithms in the next section. "
   ]
  },
  {
   "cell_type": "markdown",
   "metadata": {},
   "source": [
    "## Fine-tuning the set $F$"
   ]
  },
  {
   "cell_type": "code",
   "execution_count": 122,
   "metadata": {},
   "outputs": [],
   "source": [
    "# In the following, we try to select the K best\n",
    "# features by plotting the score on 3-fold cross-val\n",
    "# as a function of K\n",
    "\n",
    "clf = GradientBoostingClassifier(n_estimators=10)\n",
    "X = df[F_features]\n",
    "y = df.label\n",
    "\n",
    "scores = []\n",
    "for i in range(len(top_features)):\n",
    "    features_tested = top_features[:i+1]\n",
    "    X_tested = X[features_tested]\n",
    "    score = cross_val_score(clf, X_tested, y, cv=3, scoring='f1').mean()\n",
    "    scores.append(score)"
   ]
  },
  {
   "cell_type": "code",
   "execution_count": 123,
   "metadata": {},
   "outputs": [
    {
     "data": {
      "image/png": "[encoded data removed]",
      "text/plain": [
       "<matplotlib.figure.Figure at 0x25d661cada0>"
      ]
     },
     "metadata": {},
     "output_type": "display_data"
    }
   ],
   "source": [
    "plt.plot(range(1,len(top_features)+1), scores)\n",
    "plt.xlabel(\"K\")\n",
    "plt.ylabel(\"F1 score\")\n",
    "plt.title(\"Score = f(K best features)\")\n",
    "plt.show()"
   ]
  },
  {
   "cell_type": "code",
   "execution_count": 95,
   "metadata": {},
   "outputs": [],
   "source": [
    "best_features = [\"in_degree_target\", \"out_degree_target\", \"title_overlap\", \n",
    "                 \"temp_diff\", \"abstract_overlap\", \"jaccard_coefficient\", \n",
    "                 \"adamic_adar\", \"pref_attachment\", \"common_neighbors\", \n",
    "                 \"abstract_cosine_similarity\"]"
   ]
  },
  {
   "cell_type": "markdown",
   "metadata": {},
   "source": [
    "# Comparison of classifiers"
   ]
  },
  {
   "cell_type": "markdown",
   "metadata": {},
   "source": [
    "In this section we compare multiple classifiers using the set of features $F$. We will use the default `scikit-learn` parameters for the classifiers."
   ]
  },
  {
   "cell_type": "code",
   "execution_count": 104,
   "metadata": {},
   "outputs": [
    {
     "name": "stdout",
     "output_type": "stream",
     "text": [
      "10 features are used\n"
     ]
    }
   ],
   "source": [
    "X = df[best_features]\n",
    "y = df.label\n",
    "print(\"{} features are used\".format(X.shape[1]))"
   ]
  },
  {
   "cell_type": "code",
   "execution_count": 105,
   "metadata": {},
   "outputs": [],
   "source": [
    "# Set a 5-fold cross validation\n",
    "cv = StratifiedKFold(n_splits=5, shuffle=True)"
   ]
  },
  {
   "cell_type": "markdown",
   "metadata": {},
   "source": [
    "## Logistic Regression "
   ]
  },
  {
   "cell_type": "code",
   "execution_count": 106,
   "metadata": {},
   "outputs": [],
   "source": [
    "from sklearn.linear_model import LogisticRegression"
   ]
  },
  {
   "cell_type": "code",
   "execution_count": 107,
   "metadata": {},
   "outputs": [],
   "source": [
    "lr = LogisticRegression()"
   ]
  },
  {
   "cell_type": "code",
   "execution_count": 108,
   "metadata": {},
   "outputs": [
    {
     "name": "stderr",
     "output_type": "stream",
     "text": [
      "[Parallel(n_jobs=-1)]: Done   5 out of   5 | elapsed:   20.8s finished\n"
     ]
    },
    {
     "name": "stdout",
     "output_type": "stream",
     "text": [
      "Mean of cross-validation F1: 0.944\n"
     ]
    }
   ],
   "source": [
    "# Get average cross-validation on 5 folds\n",
    "print(\"Mean of cross-validation F1: {:.3f}\"\\\n",
    "    .format(cross_val_score(lr, X, y, cv=cv, scoring=\"f1\", n_jobs=-1, verbose=2)\\\n",
    "    .mean()))"
   ]
  },
  {
   "cell_type": "markdown",
   "metadata": {},
   "source": [
    "## Random Forest "
   ]
  },
  {
   "cell_type": "code",
   "execution_count": 109,
   "metadata": {},
   "outputs": [],
   "source": [
    "from sklearn.ensemble import RandomForestClassifier"
   ]
  },
  {
   "cell_type": "code",
   "execution_count": 110,
   "metadata": {},
   "outputs": [],
   "source": [
    "rf = RandomForestClassifier()"
   ]
  },
  {
   "cell_type": "code",
   "execution_count": 111,
   "metadata": {},
   "outputs": [
    {
     "name": "stderr",
     "output_type": "stream",
     "text": [
      "[Parallel(n_jobs=-1)]: Done   5 out of   5 | elapsed:   52.1s finished\n"
     ]
    },
    {
     "name": "stdout",
     "output_type": "stream",
     "text": [
      "Mean of cross-validation F1: 0.970\n"
     ]
    }
   ],
   "source": [
    "# Get average cross-validation on 5 folds\n",
    "print(\"Mean of cross-validation F1: {:.3f}\"\\\n",
    "    .format(cross_val_score(rf, X, y, cv=cv, scoring=\"f1\", n_jobs=-1, verbose=2)\\\n",
    "    .mean()))"
   ]
  },
  {
   "cell_type": "markdown",
   "metadata": {},
   "source": [
    "## Gradient boosting"
   ]
  },
  {
   "cell_type": "code",
   "execution_count": 112,
   "metadata": {},
   "outputs": [],
   "source": [
    "from sklearn.ensemble import GradientBoostingClassifier"
   ]
  },
  {
   "cell_type": "code",
   "execution_count": 113,
   "metadata": {},
   "outputs": [],
   "source": [
    "gb = GradientBoostingClassifier()"
   ]
  },
  {
   "cell_type": "code",
   "execution_count": 114,
   "metadata": {},
   "outputs": [
    {
     "name": "stderr",
     "output_type": "stream",
     "text": [
      "[Parallel(n_jobs=-1)]: Done   5 out of   5 | elapsed:  5.4min finished\n"
     ]
    },
    {
     "name": "stdout",
     "output_type": "stream",
     "text": [
      "Mean of cross-validation F1: 0.971\n"
     ]
    }
   ],
   "source": [
    "# Get average cross-validation on 5 folds\n",
    "print(\"Mean of cross-validation F1: {:.3f}\"\\\n",
    "    .format(cross_val_score(gb, X, y, cv=cv, scoring=\"f1\", n_jobs=-1, verbose=2)\\\n",
    "    .mean()))"
   ]
  },
  {
   "cell_type": "markdown",
   "metadata": {},
   "source": [
    "| Algorithm                | Mean cross-validated f1-score |\n",
    "|--------------------------|-------------------------------|\n",
    "| Logistic Regression      | 0.944                         |\n",
    "| Random Forest Classifier | 0.970                         |\n",
    "| Gradient Boosting        | 0.971                        |"
   ]
  },
  {
   "cell_type": "markdown",
   "metadata": {},
   "source": [
    "> We will choose the Gradient Boosting classifier given these comparisons."
   ]
  },
  {
   "cell_type": "markdown",
   "metadata": {},
   "source": [
    "# Gradient Boosting hyperparameter optimization "
   ]
  },
  {
   "cell_type": "markdown",
   "metadata": {},
   "source": [
    "The computations being too slow in the notebook, we have used the script `gradient_boosting_optimization.py` in order to tune the different parameters of the Gradient Boosting classifier. We have optimized the following parameters in this order using :\n",
    "\n",
    "1.  `n_estimators`\n",
    "2. `max_depth` and `min_samples_split`\n",
    "3. `min_samples_leaf`\n",
    "\n",
    "The results obtained are in the files `gradient_boosting_hyperparameters_n.txt` where n is the order the tuning.\n",
    "\n",
    "We have chosen 50 `estimators` since it gave already good results, and increasing the number of estimators would slow down the learning for the other parameters tunings. For the `max_depth`, we have chosen 7 since it gave similar results to a max depth of 9 (which has the disadvantage of overfitting more). Finally, these paramaters, combined with `min_samples_split` = 200 and `min_samples_leaf` = 60 gave the best results in terms of the 5-fold cross-validated mean f1-score."
   ]
  },
  {
   "cell_type": "markdown",
   "metadata": {},
   "source": [
    "# Predictions"
   ]
  },
  {
   "cell_type": "code",
   "execution_count": 34,
   "metadata": {},
   "outputs": [],
   "source": [
    "from utils import complete_predictions"
   ]
  },
  {
   "cell_type": "code",
   "execution_count": 60,
   "metadata": {},
   "outputs": [
    {
     "name": "stdout",
     "output_type": "stream",
     "text": [
      "--> Opening the source-node data\n",
      "--> Computing and adding the edge embeddings\n",
      "--> Merging the source-node data with the node information\n",
      "--> Creating an undirected graph from the training data\n",
      "--> Creating a directed graph from the training data\n"
     ]
    }
   ],
   "source": [
    "feature_engineer_test = FeatureEngineering(df_node_info, \n",
    "                                           data=\"test\",\n",
    "                                           path_word_embeddings=path_embeddings)"
   ]
  },
  {
   "cell_type": "code",
   "execution_count": 96,
   "metadata": {},
   "outputs": [
    {
     "name": "stdout",
     "output_type": "stream",
     "text": [
      "--> Creating the feature 'in_degree_target' ...\n",
      "it took 0min 1s\n",
      "--> Creating the feature 'out_degree_target' ...\n",
      "it took 0min 1s\n",
      "--> Creating the feature 'title_overlap' ...\n",
      "it took 0min 2s\n",
      "--> Creating the feature 'temp_diff' ...\n",
      "it took 0min 1s\n",
      "--> Creating the feature 'abstract_overlap' ...\n",
      "it took 0min 4s\n",
      "--> Creating the feature 'jaccard_coefficient' ...\n",
      "it took 0min 2s\n",
      "--> Creating the feature 'adamic_adar' ...\n",
      "it took 0min 9s\n",
      "--> Creating the feature 'pref_attachment' ...\n",
      "it took 0min 3s\n",
      "--> Creating the feature 'common_neighbors' ...\n",
      "it took 0min 2s\n",
      "--> Creating the feature 'abstract_cosine_similarity' ...\n",
      "Loaded 200000 pretrained word vectors\n",
      "it took 0min 50s\n",
      "Wall time: 1min 13s\n"
     ]
    }
   ],
   "source": [
    "%time feature_engineer_test.create_features(features=best_features)"
   ]
  },
  {
   "cell_type": "code",
   "execution_count": 97,
   "metadata": {},
   "outputs": [],
   "source": [
    "# Test data \n",
    "X_test = feature_engineer_test.df[best_features]"
   ]
  },
  {
   "cell_type": "code",
   "execution_count": 98,
   "metadata": {},
   "outputs": [
    {
     "name": "stdout",
     "output_type": "stream",
     "text": [
      "      Iter       Train Loss   Remaining Time \n",
      "         1           1.2089            3.83m\n",
      "         2           1.0703            4.44m\n",
      "         3           0.9551            4.34m\n",
      "         4           0.8579            4.38m\n",
      "         5           0.7750            4.22m\n",
      "         6           0.7039            3.94m\n",
      "         7           0.6425            3.82m\n",
      "         8           0.5891            3.64m\n",
      "         9           0.5426            3.46m\n",
      "        10           0.5017            3.31m\n",
      "        20           0.2810            2.33m\n",
      "        30           0.2101            1.53m\n",
      "        40           0.1851           46.68s\n",
      "        50           0.1753            0.00s\n"
     ]
    },
    {
     "data": {
      "text/plain": [
       "GradientBoostingClassifier(criterion='friedman_mse', init=None,\n",
       "              learning_rate=0.1, loss='deviance', max_depth=7,\n",
       "              max_features=None, max_leaf_nodes=None,\n",
       "              min_impurity_decrease=0.0, min_impurity_split=None,\n",
       "              min_samples_leaf=60, min_samples_split=200,\n",
       "              min_weight_fraction_leaf=0.0, n_estimators=50,\n",
       "              presort='auto', random_state=None, subsample=1.0, verbose=1,\n",
       "              warm_start=False)"
      ]
     },
     "execution_count": 98,
     "metadata": {},
     "output_type": "execute_result"
    }
   ],
   "source": [
    "# Train the classifier\n",
    "clf = GradientBoostingClassifier(n_estimators=50, min_samples_split=200,\n",
    "                                 min_samples_leaf=60, max_depth=7, verbose=1)\n",
    "clf.fit(X[best_features], y)"
   ]
  },
  {
   "cell_type": "code",
   "execution_count": 99,
   "metadata": {},
   "outputs": [],
   "source": [
    "# Make predictions on the test set\n",
    "predictions = list(clf.predict(X_test[X_test.temp_diff >= 0]))\n",
    "predictions = complete_predictions(X_test, predictions)"
   ]
  },
  {
   "cell_type": "code",
   "execution_count": 100,
   "metadata": {},
   "outputs": [],
   "source": [
    "# File name for the predictions\n",
    "file_name_prefix = \"GB_final\"\n",
    "file_name = file_name_prefix + \".csv\""
   ]
  },
  {
   "cell_type": "code",
   "execution_count": 101,
   "metadata": {},
   "outputs": [
    {
     "data": {
      "text/html": [
       "<div>\n",
       "<style scoped>\n",
       "    .dataframe tbody tr th:only-of-type {\n",
       "        vertical-align: middle;\n",
       "    }\n",
       "\n",
       "    .dataframe tbody tr th {\n",
       "        vertical-align: top;\n",
       "    }\n",
       "\n",
       "    .dataframe thead th {\n",
       "        text-align: right;\n",
       "    }\n",
       "</style>\n",
       "<table border=\"1\" class=\"dataframe\">\n",
       "  <thead>\n",
       "    <tr style=\"text-align: right;\">\n",
       "      <th></th>\n",
       "      <th>category</th>\n",
       "    </tr>\n",
       "    <tr>\n",
       "      <th>id</th>\n",
       "      <th></th>\n",
       "    </tr>\n",
       "  </thead>\n",
       "  <tbody>\n",
       "    <tr>\n",
       "      <th>0</th>\n",
       "      <td>0</td>\n",
       "    </tr>\n",
       "    <tr>\n",
       "      <th>1</th>\n",
       "      <td>1</td>\n",
       "    </tr>\n",
       "    <tr>\n",
       "      <th>2</th>\n",
       "      <td>1</td>\n",
       "    </tr>\n",
       "    <tr>\n",
       "      <th>3</th>\n",
       "      <td>1</td>\n",
       "    </tr>\n",
       "    <tr>\n",
       "      <th>4</th>\n",
       "      <td>0</td>\n",
       "    </tr>\n",
       "  </tbody>\n",
       "</table>\n",
       "</div>"
      ],
      "text/plain": [
       "    category\n",
       "id          \n",
       "0          0\n",
       "1          1\n",
       "2          1\n",
       "3          1\n",
       "4          0"
      ]
     },
     "execution_count": 101,
     "metadata": {},
     "output_type": "execute_result"
    }
   ],
   "source": [
    "df_predictions = pd.DataFrame(predictions, columns=[\"category\"])\n",
    "df_predictions.index.names = [\"id\"]\n",
    "df_predictions.head()"
   ]
  },
  {
   "cell_type": "code",
   "execution_count": 102,
   "metadata": {},
   "outputs": [],
   "source": [
    "# Save the predictions\n",
    "df_predictions.to_csv(\"predictions/{}\".format(file_name))"
   ]
  }
 ],
 "metadata": {
  "kernelspec": {
   "display_name": "Python 3",
   "language": "python",
   "name": "python3"
  },
  "language_info": {
   "codemirror_mode": {
    "name": "ipython",
    "version": 3
   },
   "file_extension": ".py",
   "mimetype": "text/x-python",
   "name": "python",
   "nbconvert_exporter": "python",
   "pygments_lexer": "ipython3",
   "version": "3.5.2"
  },
  "toc": {
   "nav_menu": {},
   "number_sections": true,
   "sideBar": true,
   "skip_h1_title": false,
   "toc_cell": true,
   "toc_position": {},
   "toc_section_display": "block",
   "toc_window_display": true
  },
  "varInspector": {
   "cols": {
    "lenName": 16,
    "lenType": 16,
    "lenVar": 40
   },
   "kernels_config": {
    "python": {
     "delete_cmd_postfix": "",
     "delete_cmd_prefix": "del ",
     "library": "var_list.py",
     "varRefreshCmd": "print(var_dic_list())"
    },
    "r": {
     "delete_cmd_postfix": ") ",
     "delete_cmd_prefix": "rm(",
     "library": "var_list.r",
     "varRefreshCmd": "cat(var_dic_list()) "
    }
   },
   "types_to_exclude": [
    "module",
    "function",
    "builtin_function_or_method",
    "instance",
    "_Feature"
   ],
   "window_display": false
  }
 },
 "nbformat": 4,
 "nbformat_minor": 2
}
